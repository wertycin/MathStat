{
  "nbformat": 4,
  "nbformat_minor": 0,
  "metadata": {
    "kernelspec": {
      "display_name": "Python 3",
      "language": "python",
      "name": "python3"
    },
    "language_info": {
      "codemirror_mode": {
        "name": "ipython",
        "version": 3
      },
      "file_extension": ".py",
      "mimetype": "text/x-python",
      "name": "python",
      "nbconvert_exporter": "python",
      "pygments_lexer": "ipython3",
      "version": "3.6.9"
    },
    "colab": {
      "name": "03_python_1.ipynb",
      "provenance": [],
      "collapsed_sections": []
    }
  },
  "cells": [
    {
      "cell_type": "markdown",
      "metadata": {
        "id": "IY6Dvry20W6P"
      },
      "source": [
        "# <a href=\"https://mipt-stats.gitlab.io/courses/python.html\">Python для анализа данных</a>\n",
        "\n",
        "## 1. Язык Python\n",
        "\n",
        "При программировании на питоне первые полезные результаты\n",
        "начинают получаться минут через 5 после начала работы над\n",
        "проектом. Не надо изобретать никаких велосипедов: всё, что\n",
        "может понадобиться, доступно или в стандартной библиотеке,\n",
        "или в одном из многочисленных дополнительных пакетов.\n",
        "Программы получаются элегантные и лаконичные, их легко и\n",
        "приятно писать и читать. Имеется широкий выбор высококачественных инструментов программиста: интегрированные среды разработки, отладчики и средства тестирования и т.д. Питон прекрасно приспособлен для написания больших и сложных программных комплексов. И всё это совершенно не зависит от железа и операционной системы. Конечно, если не вызывать низкоуровневых системно-зависимыех библиотек.\n",
        "\n",
        "Главный минус — питон, мягко говоря, не славится потрясающим быстродействием. Писать программы сложных вычислений на питоне, конечно, глупо. Но есть ряд способов обойти это ограничение. Если программа занимается регулярной обработкой больших массивов чисел с плавающей точкой, то использование numpy радикально повышает её быстродействие. Пакет numpy и его расширение `scipy` фактически делают matlab ненужным — дают ту же функциональность с более приятным языком программирование. Есть ряд пакетов для построения высококачественных графиков, например, `matplotlib`. Другое средство повышения быстродействия — `cython`. Пишется программа, выглядящая почти как питонская, но со вставленными статичестими декларациями типов. `cython` транслирует её в исходный код на C, что часто даёт быстродействие, сравнимое с вручную написанным C. Программа на `cython`-е может свободно вызывать функции из библиотек на C;\n",
        "её можно использовать из обычного питона. Ну и наконец можно написать критически важные для быстродействия системы в целом вычисления на другом языке (C например), и вызывать эти внешние программы из питона. Питон при этом выполняет роль клея — реализует логику высокого уровня, системно-независимый GUI и т.д.\n",
        "\n",
        "Питон — сильно типизированный язык с динамической типизацией. Всё, с чем работает программа — объекты; каждый из них принадлежит определённому типу. Если программа пытается выполнить какую-то операцию над объектом такого типа, который не поддерживает эту операцию, произойдёт ошибка времени выполнения. Описаний переменных в питоне нет. Одна и та же переменная может в разные моменты иметь значения — объекты разных типов. Ошибка в типах может проявиться много времени спустя после того, как программа сдана в эксплуатацию, особенно если она происходит в редко используемом участке кода.\n",
        "Язык допускает ситуацию, когда мы сначала присвоим какой-то переменной целое число, потом строку, потом ещё что-то, но это плохой стиль. Переменная заводится для одного конкретного использования, и естественно, чтобы её значения в любой момент подходили для этого использования и имели одинаковый тип. В исходный текст на питоне 3.5 можно включить (необязательные) аннотации типов переменных и функций, и прогнать её через программу статической проверки типов.\n",
        "\n",
        "### Питонячий стиль кода\n",
        "\n",
        "Обязательно прочитайте инструкцию по стилю кода: http://pep8.ru/doc/pep8/\n",
        "\n",
        "Желательно соблюдать стиль кода.\n",
        "Курсы Физтех.Статистики не являются курсами по программированию, поэтому полное соблюдение стиля не требуется.\n",
        "Перечислим кратко основные правила:\n",
        "\n",
        "* Отступы составляют ровно 4 пробела, табуляции не используются. К слову, в Питоне нет ключевых слов по типу `{` и `}` в C и `begin` и `end` в Паскале. Блоки кода разделяются пробелами.\n",
        "* Все переменные должны иметь понятные названия и состоять только из строчных букв. Например, вместо того, чтобы назвать выборку как `X`, лучше назвать ее `sample`. В качестве разделителей используйте подчеркивания. В редких случаях можно и отступать от этого правила, если обозначения понятны из решаемой задачи.\n",
        "* Вокруг всех знаков арифметических операций, присваивания и пр. обязательны пробелы с двух сторон. Исключение — запись вида `a=b` в аргументах функции. Примеры будут далее.\n",
        "* Разделяйте логические куски программы пустыми строками. Врядли вы сможете написать код строк на 10-15, в который нельзя вставить ни одну пустую строку, разделяющую код на логические части. ПЕРЕД всеми логическими кусками кода должен быть комментарий к этому куску кода.\n",
        "* Все функции (кроме самых маленьких) должны содержать подробную документацию, написанную по правилам оформления документаций.\n",
        "* Если комментарий дается на строке с кодом, то оформить его стоит так:\n",
        "\n",
        "`код [ровно 2 пробела] # [ровно 1 пробел] комментарий`\n",
        "\n",
        "* Если комментарий дается на отдельной строке, то он должен иметь тот же отступ, что и строка кода под ним. Скорее всего перед таким комментарием можно вставить пустую строку.\n",
        "* Не нужно комментировать очевидное.\n",
        "* Не нужно писать весь код в одной ячейке ноутбука!!!\n",
        "* Если есть возможность, при выводе десятичных чисел следует оставлять разумное число знаков после запятой.\n",
        "\n",
        "Отдельно стоит отметить, что код должен быть понятен проверяющему.\n",
        "В частности, должны использоваться понятные названия переменных и присутствовать подробные комментарии.\n",
        "**Если проверяющий не поймет код, оценка за задание может быть снижена**, и будет пичалька.\n",
        "\n",
        "## 2. Числа\n",
        "\n",
        "Арифметические операции имеют ожидаемые приоритеты. При необходимости используются скобки."
      ]
    },
    {
      "cell_type": "code",
      "metadata": {
        "id": "WKqI0IJL0W6Y",
        "outputId": "6ad650a7-dd9e-4b60-f247-4dfc8432e6c0"
      },
      "source": [
        "1 + 2 * 3"
      ],
      "execution_count": null,
      "outputs": [
        {
          "output_type": "execute_result",
          "data": {
            "text/plain": [
              "7"
            ]
          },
          "metadata": {
            "tags": []
          },
          "execution_count": 1
        }
      ]
    },
    {
      "cell_type": "code",
      "metadata": {
        "id": "TowvbCTP0W6Z",
        "outputId": "98c3b670-57d4-4078-8408-983a0e5c2009"
      },
      "source": [
        "(1 + 2) * 3"
      ],
      "execution_count": null,
      "outputs": [
        {
          "output_type": "execute_result",
          "data": {
            "text/plain": [
              "9"
            ]
          },
          "metadata": {
            "tags": []
          },
          "execution_count": 2
        }
      ]
    },
    {
      "cell_type": "markdown",
      "metadata": {
        "id": "4AfL-QjF0W6a"
      },
      "source": [
        "Возведение целого числа в целую степень даёт целое число, если показатель степени $\\geqslant 0$, и число с плавающей точкой, если он $<0$. Так что тип результата невозможно определить статически, если значение переменной `n` неизвестно."
      ]
    },
    {
      "cell_type": "code",
      "metadata": {
        "id": "3uKCaxF60W6a",
        "outputId": "aefc391a-2fdf-4dcf-f06c-f0ef2a97adab"
      },
      "source": [
        "n = 3\n",
        "2 ** n"
      ],
      "execution_count": null,
      "outputs": [
        {
          "output_type": "execute_result",
          "data": {
            "text/plain": [
              "8"
            ]
          },
          "metadata": {
            "tags": []
          },
          "execution_count": 3
        }
      ]
    },
    {
      "cell_type": "code",
      "metadata": {
        "id": "8ngRMQv50W6b",
        "outputId": "1513626b-cfaf-4c80-ae9c-0fb8eb258790"
      },
      "source": [
        "n = -3\n",
        "2 ** n"
      ],
      "execution_count": null,
      "outputs": [
        {
          "output_type": "execute_result",
          "data": {
            "text/plain": [
              "0.125"
            ]
          },
          "metadata": {
            "tags": []
          },
          "execution_count": 4
        }
      ]
    },
    {
      "cell_type": "markdown",
      "metadata": {
        "id": "gTh_mukQ0W6b"
      },
      "source": [
        "Арифметические операции можно применять к целым и числам с плавающей точкой в любых сочетаниях."
      ]
    },
    {
      "cell_type": "code",
      "metadata": {
        "id": "2LW5v26t0W6b",
        "outputId": "f76a803b-1928-4a87-dc14-3923f1114c8a"
      },
      "source": [
        "n + 1.0"
      ],
      "execution_count": null,
      "outputs": [
        {
          "output_type": "execute_result",
          "data": {
            "text/plain": [
              "-2.0"
            ]
          },
          "metadata": {
            "tags": []
          },
          "execution_count": 5
        }
      ]
    },
    {
      "cell_type": "markdown",
      "metadata": {
        "id": "uehNL1M40W6c"
      },
      "source": [
        "Деление целых чисел всегда даёт результат с плавающей точкой, даже если они делятся нацело. Операторы `//` и `%` дают целое частное и остаток."
      ]
    },
    {
      "cell_type": "code",
      "metadata": {
        "id": "jHypUuKr0W6c",
        "outputId": "4eeee6e1-44d8-49bd-e330-882d0c177056"
      },
      "source": [
        "7 / 4"
      ],
      "execution_count": null,
      "outputs": [
        {
          "output_type": "execute_result",
          "data": {
            "text/plain": [
              "1.75"
            ]
          },
          "metadata": {
            "tags": []
          },
          "execution_count": 6
        }
      ]
    },
    {
      "cell_type": "code",
      "metadata": {
        "id": "XimlnBfR0W6d",
        "outputId": "e1ccd9cd-fc84-46c7-dfdf-402b2b5e204c"
      },
      "source": [
        "7 // 4"
      ],
      "execution_count": null,
      "outputs": [
        {
          "output_type": "execute_result",
          "data": {
            "text/plain": [
              "1"
            ]
          },
          "metadata": {
            "tags": []
          },
          "execution_count": 7
        }
      ]
    },
    {
      "cell_type": "code",
      "metadata": {
        "id": "KHhl0z0S0W6d",
        "outputId": "2e8e0023-d34a-4fb3-c13c-719f3c4dab28"
      },
      "source": [
        "7 % 4"
      ],
      "execution_count": null,
      "outputs": [
        {
          "output_type": "execute_result",
          "data": {
            "text/plain": [
              "3"
            ]
          },
          "metadata": {
            "tags": []
          },
          "execution_count": 8
        }
      ]
    },
    {
      "cell_type": "code",
      "metadata": {
        "id": "ddv-1FBZ0W6d",
        "outputId": "814aa8a3-31b8-4b8c-95a8-528b798b04d9"
      },
      "source": [
        "4 / 2"
      ],
      "execution_count": null,
      "outputs": [
        {
          "output_type": "execute_result",
          "data": {
            "text/plain": [
              "2.0"
            ]
          },
          "metadata": {
            "tags": []
          },
          "execution_count": 9
        }
      ]
    },
    {
      "cell_type": "markdown",
      "metadata": {
        "id": "s-EodOHM0W6e"
      },
      "source": [
        "Если Вы попытаетесь использовать переменную, которой не присвоено никакого значения, то получите сообщение об ошибке."
      ]
    },
    {
      "cell_type": "code",
      "metadata": {
        "id": "YVVSTjJb0W6e",
        "outputId": "bedaad43-0dcc-46b9-b279-5f3f57f6247a"
      },
      "source": [
        "x"
      ],
      "execution_count": null,
      "outputs": [
        {
          "output_type": "error",
          "ename": "NameError",
          "evalue": "name 'x' is not defined",
          "traceback": [
            "\u001b[0;31m---------------------------------------------------------------------------\u001b[0m",
            "\u001b[0;31mNameError\u001b[0m                                 Traceback (most recent call last)",
            "\u001b[0;32m<ipython-input-10-6fcf9dfbd479>\u001b[0m in \u001b[0;36m<module>\u001b[0;34m\u001b[0m\n\u001b[0;32m----> 1\u001b[0;31m \u001b[0mx\u001b[0m\u001b[0;34m\u001b[0m\u001b[0;34m\u001b[0m\u001b[0m\n\u001b[0m",
            "\u001b[0;31mNameError\u001b[0m: name 'x' is not defined"
          ]
        }
      ]
    },
    {
      "cell_type": "markdown",
      "metadata": {
        "id": "33x6_grb0W6e"
      },
      "source": [
        "Операция `x+=1` означает `x=x+1`, аналогично для других операций. В питоне строго различаются операторы (например, присваивание) и выражения, так что таких операций, как `++` в C, нет. Хотя вызов функции в выражении может приводить к побочным эффектам."
      ]
    },
    {
      "cell_type": "code",
      "metadata": {
        "id": "8pgaOmCQ0W6e",
        "outputId": "1ff491fc-73d9-4e58-9ad0-3747fa02f13b"
      },
      "source": [
        "x = 1\n",
        "x += 1\n",
        "print(x)"
      ],
      "execution_count": null,
      "outputs": [
        {
          "output_type": "stream",
          "text": [
            "2\n"
          ],
          "name": "stdout"
        }
      ]
    },
    {
      "cell_type": "code",
      "metadata": {
        "id": "4k3Pz1Rj0W6f",
        "outputId": "094dfcc1-12b2-4c77-af56-b2bff06b75da"
      },
      "source": [
        "x *= 2\n",
        "print(x)"
      ],
      "execution_count": null,
      "outputs": [
        {
          "output_type": "stream",
          "text": [
            "4\n"
          ],
          "name": "stdout"
        }
      ]
    },
    {
      "cell_type": "markdown",
      "metadata": {
        "id": "es31UdSm0W6f"
      },
      "source": [
        "Удаление объекта"
      ]
    },
    {
      "cell_type": "code",
      "metadata": {
        "id": "OrVGPm3q0W6f",
        "outputId": "e1d863fd-04aa-4ecc-e35f-6cec2d8cbc35"
      },
      "source": [
        "del x\n",
        "x"
      ],
      "execution_count": null,
      "outputs": [
        {
          "output_type": "error",
          "ename": "NameError",
          "evalue": "name 'x' is not defined",
          "traceback": [
            "\u001b[0;31m---------------------------------------------------------------------------\u001b[0m",
            "\u001b[0;31mNameError\u001b[0m                                 Traceback (most recent call last)",
            "\u001b[0;32m<ipython-input-13-1beca76b84e9>\u001b[0m in \u001b[0;36m<module>\u001b[0;34m\u001b[0m\n\u001b[1;32m      1\u001b[0m \u001b[0;32mdel\u001b[0m \u001b[0mx\u001b[0m\u001b[0;34m\u001b[0m\u001b[0;34m\u001b[0m\u001b[0m\n\u001b[0;32m----> 2\u001b[0;31m \u001b[0mx\u001b[0m\u001b[0;34m\u001b[0m\u001b[0;34m\u001b[0m\u001b[0m\n\u001b[0m",
            "\u001b[0;31mNameError\u001b[0m: name 'x' is not defined"
          ]
        }
      ]
    },
    {
      "cell_type": "code",
      "metadata": {
        "id": "bN9r65kq0W6f"
      },
      "source": [
        "x = 4"
      ],
      "execution_count": null,
      "outputs": []
    },
    {
      "cell_type": "markdown",
      "metadata": {
        "id": "u6qg4abU0W6g"
      },
      "source": [
        "Любопытная особенность питона: можно использовать привычные из математики сравнения вроде $x<y<z$, которые в других языках пришлось бы записывать как `x<y and y<z`."
      ]
    },
    {
      "cell_type": "code",
      "metadata": {
        "id": "PO8FvhAC0W6g",
        "outputId": "b511a680-9e83-4a35-b26b-fede50598aa4"
      },
      "source": [
        "1 < 2 <= 2"
      ],
      "execution_count": null,
      "outputs": [
        {
          "output_type": "execute_result",
          "data": {
            "text/plain": [
              "True"
            ]
          },
          "metadata": {
            "tags": []
          },
          "execution_count": 15
        }
      ]
    },
    {
      "cell_type": "code",
      "metadata": {
        "id": "DUxngdqH0W6g",
        "outputId": "e8c7471f-1997-4080-8fab-4daeb884e8e8"
      },
      "source": [
        "1 < 2 < 2"
      ],
      "execution_count": null,
      "outputs": [
        {
          "output_type": "execute_result",
          "data": {
            "text/plain": [
              "False"
            ]
          },
          "metadata": {
            "tags": []
          },
          "execution_count": 16
        }
      ]
    },
    {
      "cell_type": "markdown",
      "metadata": {
        "id": "KHw2ZIFO0W6h"
      },
      "source": [
        "Логические выражения можно комбинировать с помощью `and` и `or`, причем эти операции имеют более низкий приоритет, чем сравнения. Если результат уже ясен из первого операнда, второй операнд не вычисляется. А вот так выглядит оператор `if`."
      ]
    },
    {
      "cell_type": "code",
      "metadata": {
        "id": "tF6EyTud0W6h",
        "outputId": "ed14034f-f680-4a5a-c6ee-4e7e52527cad"
      },
      "source": [
        "if 1 < 2 and x < 3:\n",
        "    print('T')\n",
        "else:\n",
        "    print('F')"
      ],
      "execution_count": null,
      "outputs": [
        {
          "output_type": "stream",
          "text": [
            "F\n"
          ],
          "name": "stdout"
        }
      ]
    },
    {
      "cell_type": "code",
      "metadata": {
        "id": "jh12X65D0W6h",
        "outputId": "8e2077f2-98dc-43c0-8798-3759dcdca3f7"
      },
      "source": [
        "if 1 < 2 or x < 3:\n",
        "    print('T')\n",
        "else:\n",
        "    print('F')"
      ],
      "execution_count": null,
      "outputs": [
        {
          "output_type": "stream",
          "text": [
            "T\n"
          ],
          "name": "stdout"
        }
      ]
    },
    {
      "cell_type": "markdown",
      "metadata": {
        "id": "cANBbDXX0W6h"
      },
      "source": [
        "После строчки, заканчивающейся `:`, можно писать последовательность операторов с одинаковым отступом (больше, чем у строчки `if`). Никакого признака конца такой группы операторов не нужно. Первая строчка после `else:`, имеющая тот же уровень отступа, что и `if` и `else:` — это следующий оператор после `if`.\n",
        "\n",
        "Оператора, аналогичного `case` или `switch`, в питоне нет. Используйте длинную последовательность `if` ... `elif` ... `elif` ... `else`."
      ]
    },
    {
      "cell_type": "code",
      "metadata": {
        "id": "gyIMRWU20W6i",
        "outputId": "8620754a-136c-40b3-f669-fc51dc9b7ed1"
      },
      "source": [
        "n = 4\n",
        "if n == 1:\n",
        "    print('один')\n",
        "elif n == 2:\n",
        "    print('два')\n",
        "elif n == 3:\n",
        "    print('три')\n",
        "else:\n",
        "    print('много')"
      ],
      "execution_count": null,
      "outputs": [
        {
          "output_type": "stream",
          "text": [
            "много\n"
          ],
          "name": "stdout"
        }
      ]
    },
    {
      "cell_type": "markdown",
      "metadata": {
        "id": "PlUZxwSp0W6i"
      },
      "source": [
        "Есть и условные выражения:"
      ]
    },
    {
      "cell_type": "code",
      "metadata": {
        "id": "MxkrS1XX0W6i",
        "outputId": "fc4e1b72-301b-4297-cfc6-6578400c8a2a"
      },
      "source": [
        "(0 if x < 0 else 1) + 1"
      ],
      "execution_count": null,
      "outputs": [
        {
          "output_type": "execute_result",
          "data": {
            "text/plain": [
              "2"
            ]
          },
          "metadata": {
            "tags": []
          },
          "execution_count": 20
        }
      ]
    },
    {
      "cell_type": "markdown",
      "metadata": {
        "id": "Zsmc9QD30W6i"
      },
      "source": [
        "Обычно в начале пишется *основное* выражение, оно защищается условием в `if`, а после `else` пишется *исключительный случай*.\n",
        "\n",
        "В питоне немного встроенных функций. Большинство надо импортировать. Элементарные функции импортируют из модуля `math`. Не нужно заниматься импортозамещением, то есть писать свою реализацию синуса."
      ]
    },
    {
      "cell_type": "code",
      "metadata": {
        "id": "_iAXrtfN0W6j"
      },
      "source": [
        "from math import sin, pi"
      ],
      "execution_count": null,
      "outputs": []
    },
    {
      "cell_type": "code",
      "metadata": {
        "id": "o4fiNq6D0W6j",
        "outputId": "57d53d6e-0761-4ecd-a962-a0099ae35a59"
      },
      "source": [
        "pi"
      ],
      "execution_count": null,
      "outputs": [
        {
          "output_type": "execute_result",
          "data": {
            "text/plain": [
              "3.141592653589793"
            ]
          },
          "metadata": {
            "tags": []
          },
          "execution_count": 22
        }
      ]
    },
    {
      "cell_type": "code",
      "metadata": {
        "id": "-GqSGEG80W6j",
        "outputId": "7d10beb2-602a-4d25-d0f8-de7bd7abab67"
      },
      "source": [
        "round(pi, 2)"
      ],
      "execution_count": null,
      "outputs": [
        {
          "output_type": "execute_result",
          "data": {
            "text/plain": [
              "3.14"
            ]
          },
          "metadata": {
            "tags": []
          },
          "execution_count": 23
        }
      ]
    },
    {
      "cell_type": "code",
      "metadata": {
        "id": "SpvT9WtN0W6k",
        "outputId": "b35ef896-f11b-4bf5-ba0d-7b922f28f773"
      },
      "source": [
        "print('{:.2f}'.format(pi))"
      ],
      "execution_count": null,
      "outputs": [
        {
          "output_type": "stream",
          "text": [
            "3.14\n"
          ],
          "name": "stdout"
        }
      ]
    },
    {
      "cell_type": "code",
      "metadata": {
        "id": "GEyVI9Ui0W6k",
        "outputId": "fc6ebdeb-99fc-48a3-c9c4-08226ad59e3f"
      },
      "source": [
        "round(sin(pi / 6), 2)"
      ],
      "execution_count": null,
      "outputs": [
        {
          "output_type": "execute_result",
          "data": {
            "text/plain": [
              "0.5"
            ]
          },
          "metadata": {
            "tags": []
          },
          "execution_count": 26
        }
      ]
    },
    {
      "cell_type": "markdown",
      "metadata": {
        "id": "bIQSQLKC0W6k"
      },
      "source": [
        "Любой объект имеет тип."
      ]
    },
    {
      "cell_type": "code",
      "metadata": {
        "id": "yP_dIkAl0W6k",
        "outputId": "24964851-fd09-496d-9f66-7c0d693695f6"
      },
      "source": [
        "type(2)"
      ],
      "execution_count": null,
      "outputs": [
        {
          "output_type": "execute_result",
          "data": {
            "text/plain": [
              "int"
            ]
          },
          "metadata": {
            "tags": []
          },
          "execution_count": 27
        }
      ]
    },
    {
      "cell_type": "code",
      "metadata": {
        "id": "9T2JgC_m0W6k",
        "outputId": "1894283d-f97a-42a7-812b-e2527392ebca"
      },
      "source": [
        "type(int)"
      ],
      "execution_count": null,
      "outputs": [
        {
          "output_type": "execute_result",
          "data": {
            "text/plain": [
              "type"
            ]
          },
          "metadata": {
            "tags": []
          },
          "execution_count": 28
        }
      ]
    },
    {
      "cell_type": "code",
      "metadata": {
        "id": "eAavsGlO0W6l",
        "outputId": "09d84513-65c2-4360-8ca7-d904a0c09501"
      },
      "source": [
        "type(type)"
      ],
      "execution_count": null,
      "outputs": [
        {
          "output_type": "execute_result",
          "data": {
            "text/plain": [
              "type"
            ]
          },
          "metadata": {
            "tags": []
          },
          "execution_count": 29
        }
      ]
    },
    {
      "cell_type": "code",
      "metadata": {
        "id": "ToYuGvs_0W6l",
        "outputId": "fdd24985-14cc-4108-9bc0-454d0d92e2e2"
      },
      "source": [
        "type(2.1)"
      ],
      "execution_count": null,
      "outputs": [
        {
          "output_type": "execute_result",
          "data": {
            "text/plain": [
              "float"
            ]
          },
          "metadata": {
            "tags": []
          },
          "execution_count": 30
        }
      ]
    },
    {
      "cell_type": "code",
      "metadata": {
        "id": "bO_ax9mA0W6l",
        "outputId": "874008c0-5759-4464-f46c-32510cd3673d"
      },
      "source": [
        "type(True)"
      ],
      "execution_count": null,
      "outputs": [
        {
          "output_type": "execute_result",
          "data": {
            "text/plain": [
              "bool"
            ]
          },
          "metadata": {
            "tags": []
          },
          "execution_count": 31
        }
      ]
    },
    {
      "cell_type": "code",
      "metadata": {
        "id": "nPf0VpSu0W6m",
        "outputId": "a4f8c6ab-6ee1-4b5c-d0e4-64aef542d996"
      },
      "source": [
        "type(None)"
      ],
      "execution_count": null,
      "outputs": [
        {
          "output_type": "execute_result",
          "data": {
            "text/plain": [
              "NoneType"
            ]
          },
          "metadata": {
            "tags": []
          },
          "execution_count": 32
        }
      ]
    },
    {
      "cell_type": "markdown",
      "metadata": {
        "id": "_o4K9WsM0W6m"
      },
      "source": [
        "Имена типов по совместительству являются функциями, преобразующими в этот тип объекты других типов если такое преобразование имеет смысл."
      ]
    },
    {
      "cell_type": "code",
      "metadata": {
        "id": "Xc9-mioo0W6m",
        "outputId": "de822b5e-1247-433f-8e57-238360066f3c"
      },
      "source": [
        "float(2)"
      ],
      "execution_count": null,
      "outputs": [
        {
          "output_type": "execute_result",
          "data": {
            "text/plain": [
              "2.0"
            ]
          },
          "metadata": {
            "tags": []
          },
          "execution_count": 33
        }
      ]
    },
    {
      "cell_type": "code",
      "metadata": {
        "id": "haGBahPq0W6m",
        "outputId": "fc415884-9b14-430c-e0d9-71389bab6c8a"
      },
      "source": [
        "int(2.0)"
      ],
      "execution_count": null,
      "outputs": [
        {
          "output_type": "execute_result",
          "data": {
            "text/plain": [
              "2"
            ]
          },
          "metadata": {
            "tags": []
          },
          "execution_count": 34
        }
      ]
    },
    {
      "cell_type": "code",
      "metadata": {
        "id": "rIlu2_o50W6n",
        "outputId": "552c44e6-19c8-4f10-ddf3-81e9bfc0faf5"
      },
      "source": [
        "int(2.9)"
      ],
      "execution_count": null,
      "outputs": [
        {
          "output_type": "execute_result",
          "data": {
            "text/plain": [
              "2"
            ]
          },
          "metadata": {
            "tags": []
          },
          "execution_count": 35
        }
      ]
    },
    {
      "cell_type": "code",
      "metadata": {
        "id": "10zknVUM0W6n",
        "outputId": "3a2619d7-1399-4b47-9739-c72622841846"
      },
      "source": [
        "int(-2.9)"
      ],
      "execution_count": null,
      "outputs": [
        {
          "output_type": "execute_result",
          "data": {
            "text/plain": [
              "-2"
            ]
          },
          "metadata": {
            "tags": []
          },
          "execution_count": 36
        }
      ]
    },
    {
      "cell_type": "markdown",
      "metadata": {
        "id": "fM_kWB9E0W6n"
      },
      "source": [
        "Преобразование числа с плавающей точкой в целое производится путём отбрасывания дробной части, а не округления.\n",
        "\n",
        "## 3.  Строки\n",
        "\n",
        "Питон хорошо приспособлен для работы с текстовой информацией. В нём есть много операций для работы со строками, несколько способов записи строк, удобных в разных случаях. Строки юникодные, т.е. они могут содержать одновременно русские и греческие буквы, немецкие умляуты и китайские иероглифы."
      ]
    },
    {
      "cell_type": "code",
      "metadata": {
        "id": "NXY5Cfnk0W6o",
        "outputId": "d0ec3ef4-e6fe-4917-c6db-c545626c32ee"
      },
      "source": [
        "s = 'Какая-нибудь строка \\u00F6 \\u03B1 \\u2230 \\u342A'\n",
        "print(s)"
      ],
      "execution_count": null,
      "outputs": [
        {
          "output_type": "stream",
          "text": [
            "Какая-нибудь строка ö α ∰ 㐪\n"
          ],
          "name": "stdout"
        }
      ]
    },
    {
      "cell_type": "code",
      "metadata": {
        "id": "tTJFVYpU0W6o",
        "outputId": "f5661506-6c85-4263-c0f9-5ed64178f019"
      },
      "source": [
        "'Эта строка может содержать \" внутри'"
      ],
      "execution_count": null,
      "outputs": [
        {
          "output_type": "execute_result",
          "data": {
            "text/plain": [
              "'Эта строка может содержать \" внутри'"
            ]
          },
          "metadata": {
            "tags": []
          },
          "execution_count": 38
        }
      ]
    },
    {
      "cell_type": "code",
      "metadata": {
        "id": "1z5fJg5S0W6o",
        "outputId": "9f554a97-06e2-47f8-f338-d8b7a2892d31"
      },
      "source": [
        "\"Эта строка может содержать ' внутри\""
      ],
      "execution_count": null,
      "outputs": [
        {
          "output_type": "execute_result",
          "data": {
            "text/plain": [
              "\"Эта строка может содержать ' внутри\""
            ]
          },
          "metadata": {
            "tags": []
          },
          "execution_count": 39
        }
      ]
    },
    {
      "cell_type": "code",
      "metadata": {
        "id": "YCVLzNuU0W6p",
        "outputId": "4b5d8566-78ed-4ca3-c040-98d8b915915e"
      },
      "source": [
        "s = 'Эта содержит и \\', и \\\"'\n",
        "print(s)"
      ],
      "execution_count": null,
      "outputs": [
        {
          "output_type": "stream",
          "text": [
            "Эта содержит и ', и \"\n"
          ],
          "name": "stdout"
        }
      ]
    },
    {
      "cell_type": "code",
      "metadata": {
        "id": "U1ECFWya0W6p",
        "outputId": "22e02856-463c-495b-b33c-d1652c8a9e53"
      },
      "source": [
        "s = \"\"\"Строка,\n",
        "занимающая\n",
        "несколько\n",
        "строчек\n",
        "\"\"\"\n",
        "print(s)"
      ],
      "execution_count": null,
      "outputs": [
        {
          "output_type": "stream",
          "text": [
            "Строка,\n",
            "занимающая\n",
            "несколько\n",
            "строчек\n",
            "\n"
          ],
          "name": "stdout"
        }
      ]
    },
    {
      "cell_type": "code",
      "metadata": {
        "id": "SS10X2jo0W6p",
        "outputId": "8b26da18-7955-4750-9760-da7f4644c99f"
      },
      "source": [
        "s == \"Строка,\\nзанимающая\\nнесколько\\nстрочек\\n\""
      ],
      "execution_count": null,
      "outputs": [
        {
          "output_type": "execute_result",
          "data": {
            "text/plain": [
              "True"
            ]
          },
          "metadata": {
            "tags": []
          },
          "execution_count": 42
        }
      ]
    },
    {
      "cell_type": "markdown",
      "metadata": {
        "id": "Yk6uqMVY0W6q"
      },
      "source": [
        "Несколько строковых литералов, разделённых лишь пробелами, слипаются в одну строку. Подчеркнём ещё раз: это должны быть литералы, а не переменные со строковыми значениями. Такой способ записи особенно удобен, когда нужно передать длинную строку при вызове функции."
      ]
    },
    {
      "cell_type": "code",
      "metadata": {
        "id": "a69UFAvP0W6q",
        "outputId": "bff71542-f09c-42d9-ea8a-6f425557d7e6"
      },
      "source": [
        "s = 'Такие ' 'строки ' 'слипаются'\n",
        "print(s)"
      ],
      "execution_count": null,
      "outputs": [
        {
          "output_type": "stream",
          "text": [
            "Такие строки слипаются\n"
          ],
          "name": "stdout"
        }
      ]
    },
    {
      "cell_type": "code",
      "metadata": {
        "id": "qgvC7_YY0W6q",
        "outputId": "b994230e-9d93-4fa3-ff20-363ded9d84e1"
      },
      "source": [
        "print('Такие\\n'\n",
        "      'строки\\n'\n",
        "      'слипаются')"
      ],
      "execution_count": null,
      "outputs": [
        {
          "output_type": "stream",
          "text": [
            "Такие\n",
            "строки\n",
            "слипаются\n"
          ],
          "name": "stdout"
        }
      ]
    },
    {
      "cell_type": "markdown",
      "metadata": {
        "id": "DYaGyQco0W6q"
      },
      "source": [
        "В питоне нет специального типа `char`, его роль играют строки длины 1. Функция `ord` возвращает (юникодный) номер символа, а обратная ей функция `chr` возвращает символ (строку длины 1)."
      ]
    },
    {
      "cell_type": "code",
      "metadata": {
        "id": "d_1kW2w10W6q",
        "outputId": "1beb5cc3-5503-4fee-f15c-6265a64e7670"
      },
      "source": [
        "n = ord('а')\n",
        "n"
      ],
      "execution_count": null,
      "outputs": [
        {
          "output_type": "execute_result",
          "data": {
            "text/plain": [
              "1072"
            ]
          },
          "metadata": {
            "tags": []
          },
          "execution_count": 45
        }
      ]
    },
    {
      "cell_type": "code",
      "metadata": {
        "id": "YER8a_DP0W6r",
        "outputId": "84fb1367-6d31-4e28-83c1-71464ed53919"
      },
      "source": [
        "chr(n)"
      ],
      "execution_count": null,
      "outputs": [
        {
          "output_type": "execute_result",
          "data": {
            "text/plain": [
              "'а'"
            ]
          },
          "metadata": {
            "tags": []
          },
          "execution_count": 46
        }
      ]
    },
    {
      "cell_type": "markdown",
      "metadata": {
        "id": "CSI2V0HP0W6r"
      },
      "source": [
        "Функция `len` возвращает длину строки. Она применима не только к строкам, но и к спискам, словарям и многим другим типам, про объекты которых разумно спрашивать, какая у них длина."
      ]
    },
    {
      "cell_type": "code",
      "metadata": {
        "id": "09R0YqVY0W6r",
        "outputId": "dd1e12cd-01a8-4144-e872-9c341a776a4e"
      },
      "source": [
        "s = '0123456789'\n",
        "len(s)"
      ],
      "execution_count": null,
      "outputs": [
        {
          "output_type": "execute_result",
          "data": {
            "text/plain": [
              "10"
            ]
          },
          "metadata": {
            "tags": []
          },
          "execution_count": 47
        }
      ]
    },
    {
      "cell_type": "markdown",
      "metadata": {
        "id": "XL5Ze4xZ0W6r"
      },
      "source": [
        "Символы в строке индексируются с 0. Отрицательные индексы используются для счёта с конца: `s[-1]` — последний символ в строке, и т.д."
      ]
    },
    {
      "cell_type": "code",
      "metadata": {
        "id": "rHpg7plu0W6s",
        "outputId": "3c68e894-b596-4243-8419-87170e7f5199"
      },
      "source": [
        "s[0]"
      ],
      "execution_count": null,
      "outputs": [
        {
          "output_type": "execute_result",
          "data": {
            "text/plain": [
              "'0'"
            ]
          },
          "metadata": {
            "tags": []
          },
          "execution_count": 48
        }
      ]
    },
    {
      "cell_type": "code",
      "metadata": {
        "id": "4BFgXzUQ0W6s",
        "outputId": "d7e1714c-4f9a-43a1-d5fd-15c9d1b8a6bd"
      },
      "source": [
        "s[3]"
      ],
      "execution_count": null,
      "outputs": [
        {
          "output_type": "execute_result",
          "data": {
            "text/plain": [
              "'3'"
            ]
          },
          "metadata": {
            "tags": []
          },
          "execution_count": 49
        }
      ]
    },
    {
      "cell_type": "code",
      "metadata": {
        "id": "oLC-yX4-0W6s",
        "outputId": "6adcb7a4-bdda-4985-e005-e94b658bf3d6"
      },
      "source": [
        "s[-1]"
      ],
      "execution_count": null,
      "outputs": [
        {
          "output_type": "execute_result",
          "data": {
            "text/plain": [
              "'9'"
            ]
          },
          "metadata": {
            "tags": []
          },
          "execution_count": 50
        }
      ]
    },
    {
      "cell_type": "code",
      "metadata": {
        "id": "90HU3uSe0W6s",
        "outputId": "f5add270-ea94-4d5d-b251-ec3c373b1b74"
      },
      "source": [
        "s[-2]"
      ],
      "execution_count": null,
      "outputs": [
        {
          "output_type": "execute_result",
          "data": {
            "text/plain": [
              "'8'"
            ]
          },
          "metadata": {
            "tags": []
          },
          "execution_count": 51
        }
      ]
    },
    {
      "cell_type": "markdown",
      "metadata": {
        "id": "A49qaCP70W6s"
      },
      "source": [
        "Можно выделить подстроку, указав диапазон индексов. Подстрока включает символ, соответствующий началу диапазона, но не включает соответствующий концу. Удобно представлять себе, что индексы соответствуют положениям между символами строки. Тогда подстрока `s[n:m]` будет расположена между индексами `n` и `m`."
      ]
    },
    {
      "cell_type": "code",
      "metadata": {
        "id": "tDNXylJG0W6t",
        "outputId": "5826235e-8da4-4363-8896-5190051dcff5"
      },
      "source": [
        "s[1:3]"
      ],
      "execution_count": null,
      "outputs": [
        {
          "output_type": "execute_result",
          "data": {
            "text/plain": [
              "'12'"
            ]
          },
          "metadata": {
            "tags": []
          },
          "execution_count": 52
        }
      ]
    },
    {
      "cell_type": "code",
      "metadata": {
        "id": "aGT4C1XT0W6t",
        "outputId": "33a7e08e-0327-4d2e-8d54-a519941639a0"
      },
      "source": [
        "s[:3]"
      ],
      "execution_count": null,
      "outputs": [
        {
          "output_type": "execute_result",
          "data": {
            "text/plain": [
              "'012'"
            ]
          },
          "metadata": {
            "tags": []
          },
          "execution_count": 53
        }
      ]
    },
    {
      "cell_type": "code",
      "metadata": {
        "id": "kFPRa71s0W6t",
        "outputId": "55921367-2a77-41ea-8313-bf1cabad446a"
      },
      "source": [
        "s[3:]"
      ],
      "execution_count": null,
      "outputs": [
        {
          "output_type": "execute_result",
          "data": {
            "text/plain": [
              "'3456789'"
            ]
          },
          "metadata": {
            "tags": []
          },
          "execution_count": 54
        }
      ]
    },
    {
      "cell_type": "code",
      "metadata": {
        "id": "RWnDuLQr0W6t",
        "outputId": "bd5306a4-bf9c-4b5d-e4de-115ed87a367b"
      },
      "source": [
        "s[:-1]"
      ],
      "execution_count": null,
      "outputs": [
        {
          "output_type": "execute_result",
          "data": {
            "text/plain": [
              "'012345678'"
            ]
          },
          "metadata": {
            "tags": []
          },
          "execution_count": 55
        }
      ]
    },
    {
      "cell_type": "code",
      "metadata": {
        "id": "Wua-5f4U0W6u",
        "outputId": "90cbd6d2-5ac4-4cb1-d84b-24482eadbeab"
      },
      "source": [
        "s[3:-2]"
      ],
      "execution_count": null,
      "outputs": [
        {
          "output_type": "execute_result",
          "data": {
            "text/plain": [
              "'34567'"
            ]
          },
          "metadata": {
            "tags": []
          },
          "execution_count": 56
        }
      ]
    },
    {
      "cell_type": "code",
      "metadata": {
        "id": "uWLBmnFI0W6u",
        "outputId": "e08b31a6-3485-48ac-a89f-c5a775496416"
      },
      "source": [
        "s[::2]"
      ],
      "execution_count": null,
      "outputs": [
        {
          "output_type": "execute_result",
          "data": {
            "text/plain": [
              "'02468'"
            ]
          },
          "metadata": {
            "tags": []
          },
          "execution_count": 58
        }
      ]
    },
    {
      "cell_type": "markdown",
      "metadata": {
        "id": "mm9lnhPn0W6u"
      },
      "source": [
        "Если не указано начало диапазона, подразумевается от начала строки; если не указан его конец — до конца строки.\n",
        "\n",
        "Строки являются неизменяемым типом данных. Построив строку, нельзя изменить в ней один или несколько символов. Операции над строками строят новые строки — результаты, не меняя своих операндов. Сложение строк означает конкатенацию, а умножение на целое число (с любой стороны) — повторение строки несколько раз."
      ]
    },
    {
      "cell_type": "code",
      "metadata": {
        "id": "ZkvSsTyv0W6u",
        "outputId": "501cf6cf-7d55-4b59-bf33-e79d597dfa22"
      },
      "source": [
        "s = 'abc'; t = 'def'\n",
        "s + t"
      ],
      "execution_count": null,
      "outputs": [
        {
          "output_type": "execute_result",
          "data": {
            "text/plain": [
              "'abcdef'"
            ]
          },
          "metadata": {
            "tags": []
          },
          "execution_count": 59
        }
      ]
    },
    {
      "cell_type": "code",
      "metadata": {
        "id": "__mpo5li0W6v",
        "outputId": "8f64f44c-763f-46e0-fb19-3ab713861e6e"
      },
      "source": [
        "s * 3"
      ],
      "execution_count": null,
      "outputs": [
        {
          "output_type": "execute_result",
          "data": {
            "text/plain": [
              "'abcabcabc'"
            ]
          },
          "metadata": {
            "tags": []
          },
          "execution_count": 60
        }
      ]
    },
    {
      "cell_type": "markdown",
      "metadata": {
        "id": "HwRz9Di00W6v"
      },
      "source": [
        "Операция `in` проверяет, содержится ли символ (или подстрока) в строке."
      ]
    },
    {
      "cell_type": "code",
      "metadata": {
        "id": "CSPRK1qX0W6v",
        "outputId": "be941348-d946-4e11-a979-77771a9ce9fa"
      },
      "source": [
        "'a' in s"
      ],
      "execution_count": null,
      "outputs": [
        {
          "output_type": "execute_result",
          "data": {
            "text/plain": [
              "True"
            ]
          },
          "metadata": {
            "tags": []
          },
          "execution_count": 61
        }
      ]
    },
    {
      "cell_type": "code",
      "metadata": {
        "id": "_XG9PjIX0W6v",
        "outputId": "058b2512-59b8-428b-81db-941b6df174bc"
      },
      "source": [
        "'d' in s"
      ],
      "execution_count": null,
      "outputs": [
        {
          "output_type": "execute_result",
          "data": {
            "text/plain": [
              "False"
            ]
          },
          "metadata": {
            "tags": []
          },
          "execution_count": 62
        }
      ]
    },
    {
      "cell_type": "code",
      "metadata": {
        "id": "zxpfgh8m0W6v",
        "outputId": "d10cd7d4-2065-496e-a0a5-a568482ae423"
      },
      "source": [
        "'ab' in s"
      ],
      "execution_count": null,
      "outputs": [
        {
          "output_type": "execute_result",
          "data": {
            "text/plain": [
              "True"
            ]
          },
          "metadata": {
            "tags": []
          },
          "execution_count": 63
        }
      ]
    },
    {
      "cell_type": "code",
      "metadata": {
        "id": "GiL8oXLc0W6w",
        "outputId": "6e8b0cd6-4f38-4038-be70-49a0fe8afb18"
      },
      "source": [
        "'b' not in s"
      ],
      "execution_count": null,
      "outputs": [
        {
          "output_type": "execute_result",
          "data": {
            "text/plain": [
              "False"
            ]
          },
          "metadata": {
            "tags": []
          },
          "execution_count": 64
        }
      ]
    },
    {
      "cell_type": "markdown",
      "metadata": {
        "id": "-Xkdcvzo0W6w"
      },
      "source": [
        "У объектов типа строка есть большое количество методов. Метод `lstrip` удаляет все whitespace-символы (пробел, `tab`, `newline`) в начале строки; `rstrip` — в конце; а `strip` — с обеих сторон. Им можно передать необязательный аргумент — символы, которые нужно удалять."
      ]
    },
    {
      "cell_type": "code",
      "metadata": {
        "id": "0p4Z06T20W6w",
        "outputId": "62c16ad4-23d6-43be-e5a5-7d1abed294e8"
      },
      "source": [
        "'   строка   '.lstrip()"
      ],
      "execution_count": null,
      "outputs": [
        {
          "output_type": "execute_result",
          "data": {
            "text/plain": [
              "'строка   '"
            ]
          },
          "metadata": {
            "tags": []
          },
          "execution_count": 65
        }
      ]
    },
    {
      "cell_type": "code",
      "metadata": {
        "id": "tRzD_WBV0W6w",
        "outputId": "9a35f664-ea28-4c46-cc05-c103f317da21"
      },
      "source": [
        "'   строка   '.rstrip()"
      ],
      "execution_count": null,
      "outputs": [
        {
          "output_type": "execute_result",
          "data": {
            "text/plain": [
              "'   строка'"
            ]
          },
          "metadata": {
            "tags": []
          },
          "execution_count": 66
        }
      ]
    },
    {
      "cell_type": "code",
      "metadata": {
        "id": "ucFvH9pw0W6x",
        "outputId": "2e1da1f2-d3c8-4ddd-c158-8985b59c706f"
      },
      "source": [
        "'   строка   '.strip()"
      ],
      "execution_count": null,
      "outputs": [
        {
          "output_type": "execute_result",
          "data": {
            "text/plain": [
              "'строка'"
            ]
          },
          "metadata": {
            "tags": []
          },
          "execution_count": 67
        }
      ]
    },
    {
      "cell_type": "markdown",
      "metadata": {
        "id": "9SOI5Xu80W6x"
      },
      "source": [
        "`lower` и `upper` переводят все буквы в маленькие и заглавные."
      ]
    },
    {
      "cell_type": "code",
      "metadata": {
        "id": "BHbDzaz00W6x",
        "outputId": "7239fefc-9dce-4384-a775-5ba4bc3a44dc"
      },
      "source": [
        "'СтРоКа'.lower()"
      ],
      "execution_count": null,
      "outputs": [
        {
          "output_type": "execute_result",
          "data": {
            "text/plain": [
              "'строка'"
            ]
          },
          "metadata": {
            "tags": []
          },
          "execution_count": 68
        }
      ]
    },
    {
      "cell_type": "code",
      "metadata": {
        "id": "567CtZ860W6x",
        "outputId": "3f4524b8-923e-40b8-eb5a-1fb3a408c53d"
      },
      "source": [
        "'СтРоКа'.upper()"
      ],
      "execution_count": null,
      "outputs": [
        {
          "output_type": "execute_result",
          "data": {
            "text/plain": [
              "'СТРОКА'"
            ]
          },
          "metadata": {
            "tags": []
          },
          "execution_count": 69
        }
      ]
    },
    {
      "cell_type": "markdown",
      "metadata": {
        "id": "eIiiJxJK0W6x"
      },
      "source": [
        "Проверки: буквы (маленькие и заглавные), цифры, пробелы."
      ]
    },
    {
      "cell_type": "code",
      "metadata": {
        "id": "ZH1vKH9K0W6y",
        "outputId": "2b36ef2f-569d-4c29-885b-39eee72ae594"
      },
      "source": [
        "'АбВг'.isalpha()"
      ],
      "execution_count": null,
      "outputs": [
        {
          "output_type": "execute_result",
          "data": {
            "text/plain": [
              "True"
            ]
          },
          "metadata": {
            "tags": []
          },
          "execution_count": 70
        }
      ]
    },
    {
      "cell_type": "code",
      "metadata": {
        "id": "MX00bFWx0W6y",
        "outputId": "50a87b5f-4b1c-4a2a-c6d5-509b1ae75f65"
      },
      "source": [
        "'абвг'.islower()"
      ],
      "execution_count": null,
      "outputs": [
        {
          "output_type": "execute_result",
          "data": {
            "text/plain": [
              "True"
            ]
          },
          "metadata": {
            "tags": []
          },
          "execution_count": 71
        }
      ]
    },
    {
      "cell_type": "code",
      "metadata": {
        "id": "AmkvGlp50W6y",
        "outputId": "6ea750ac-4f92-475b-bbb7-e201677d53a0"
      },
      "source": [
        "'АБВГ'.isupper()"
      ],
      "execution_count": null,
      "outputs": [
        {
          "output_type": "execute_result",
          "data": {
            "text/plain": [
              "True"
            ]
          },
          "metadata": {
            "tags": []
          },
          "execution_count": 72
        }
      ]
    },
    {
      "cell_type": "code",
      "metadata": {
        "id": "eK8Huzbd0W6y",
        "outputId": "0f625841-b08d-4aa2-d3aa-5772b215ac33"
      },
      "source": [
        "'0123'.isdigit()"
      ],
      "execution_count": null,
      "outputs": [
        {
          "output_type": "execute_result",
          "data": {
            "text/plain": [
              "True"
            ]
          },
          "metadata": {
            "tags": []
          },
          "execution_count": 73
        }
      ]
    },
    {
      "cell_type": "code",
      "metadata": {
        "id": "qcThjlDz0W6z",
        "outputId": "2326b78d-b863-4b8f-fd69-c9ce5d37d6c7"
      },
      "source": [
        "' \\t\\n'.isspace()"
      ],
      "execution_count": null,
      "outputs": [
        {
          "output_type": "execute_result",
          "data": {
            "text/plain": [
              "True"
            ]
          },
          "metadata": {
            "tags": []
          },
          "execution_count": 74
        }
      ]
    },
    {
      "cell_type": "markdown",
      "metadata": {
        "id": "Oln8UqyW0W6z"
      },
      "source": [
        "Строки имеют тип `str`."
      ]
    },
    {
      "cell_type": "code",
      "metadata": {
        "id": "PWoD9jQd0W6z",
        "outputId": "34314faf-f60f-4e23-9adc-f5b672ce48b2"
      },
      "source": [
        "type(s)"
      ],
      "execution_count": null,
      "outputs": [
        {
          "output_type": "execute_result",
          "data": {
            "text/plain": [
              "str"
            ]
          },
          "metadata": {
            "tags": []
          },
          "execution_count": 75
        }
      ]
    },
    {
      "cell_type": "code",
      "metadata": {
        "id": "bYLWemBQ0W6z",
        "outputId": "7999f016-58d2-4614-dde1-1c26c9e25185"
      },
      "source": [
        "s = str(123)\n",
        "s"
      ],
      "execution_count": null,
      "outputs": [
        {
          "output_type": "execute_result",
          "data": {
            "text/plain": [
              "'123'"
            ]
          },
          "metadata": {
            "tags": []
          },
          "execution_count": 76
        }
      ]
    },
    {
      "cell_type": "code",
      "metadata": {
        "id": "S56Fk_zm0W6z",
        "outputId": "13f0d342-7836-499d-8416-e58ec43a17ff"
      },
      "source": [
        "n = int(s)\n",
        "n"
      ],
      "execution_count": null,
      "outputs": [
        {
          "output_type": "execute_result",
          "data": {
            "text/plain": [
              "123"
            ]
          },
          "metadata": {
            "tags": []
          },
          "execution_count": 77
        }
      ]
    },
    {
      "cell_type": "code",
      "metadata": {
        "id": "WGtEwcuN0W60",
        "outputId": "c1923104-8200-4c95-c005-17c4f6cf418f"
      },
      "source": [
        "int('123x')"
      ],
      "execution_count": null,
      "outputs": [
        {
          "output_type": "error",
          "ename": "ValueError",
          "evalue": "invalid literal for int() with base 10: '123x'",
          "traceback": [
            "\u001b[0;31m---------------------------------------------------------------------------\u001b[0m",
            "\u001b[0;31mValueError\u001b[0m                                Traceback (most recent call last)",
            "\u001b[0;32m<ipython-input-78-1183a716c046>\u001b[0m in \u001b[0;36m<module>\u001b[0;34m\u001b[0m\n\u001b[0;32m----> 1\u001b[0;31m \u001b[0mint\u001b[0m\u001b[0;34m(\u001b[0m\u001b[0;34m'123x'\u001b[0m\u001b[0;34m)\u001b[0m\u001b[0;34m\u001b[0m\u001b[0;34m\u001b[0m\u001b[0m\n\u001b[0m",
            "\u001b[0;31mValueError\u001b[0m: invalid literal for int() with base 10: '123x'"
          ]
        }
      ]
    },
    {
      "cell_type": "code",
      "metadata": {
        "id": "JA3bJ90O0W60",
        "outputId": "b3e7fab8-ee33-424e-a9b3-e62231d771c5"
      },
      "source": [
        "x = float('123.456E-7')\n",
        "x"
      ],
      "execution_count": null,
      "outputs": [
        {
          "output_type": "execute_result",
          "data": {
            "text/plain": [
              "1.23456e-05"
            ]
          },
          "metadata": {
            "tags": []
          },
          "execution_count": 79
        }
      ]
    },
    {
      "cell_type": "markdown",
      "metadata": {
        "id": "SqsOuaeC0W60"
      },
      "source": [
        "Метод `format` особенно полезен для вывода."
      ]
    },
    {
      "cell_type": "code",
      "metadata": {
        "id": "cTFEPvSe0W60",
        "outputId": "e2ecce3d-051a-492f-edcb-51aaa3c07839"
      },
      "source": [
        "'str: {}  int: {}  float: {}'.format(s, n, x)"
      ],
      "execution_count": null,
      "outputs": [
        {
          "output_type": "execute_result",
          "data": {
            "text/plain": [
              "'str: 123  int: 123  float: 1.23456e-05'"
            ]
          },
          "metadata": {
            "tags": []
          },
          "execution_count": 77
        }
      ]
    },
    {
      "cell_type": "markdown",
      "metadata": {
        "id": "kFBEF4fI0W61"
      },
      "source": [
        "Ширина поля 5 (больше, если не влезет); десятичный, шестнадцатиричный и двоичный форматы."
      ]
    },
    {
      "cell_type": "code",
      "metadata": {
        "id": "cUUIxUFG0W61",
        "outputId": "90f594c1-cf3b-4715-977c-28749fbbf103"
      },
      "source": [
        "print('''{:5d}\n",
        "{:5x}\n",
        "{:5b}'''.format(n, n, n))"
      ],
      "execution_count": null,
      "outputs": [
        {
          "output_type": "stream",
          "text": [
            "  123\n",
            "   7b\n",
            "1111011\n"
          ],
          "name": "stdout"
        }
      ]
    },
    {
      "cell_type": "markdown",
      "metadata": {
        "id": "Np-a_SzX0W61"
      },
      "source": [
        "Ширина поля 10 (больше, если не влезет); после десятичной точки 5 цифр; формат с фиксированной точкой или экспоненциальный."
      ]
    },
    {
      "cell_type": "code",
      "metadata": {
        "id": "7KnJL-sp0W61",
        "outputId": "1339763b-285e-4e79-e1fc-150016da326e"
      },
      "source": [
        "print('''{:10.5f}\n",
        "{:10.5e}\n",
        "{:10.5f}\n",
        "{:10.5e}'''.format(x, x, 1 / x, 1 / x))"
      ],
      "execution_count": null,
      "outputs": [
        {
          "output_type": "stream",
          "text": [
            "   0.00001\n",
            "1.23456e-05\n",
            "81000.51840\n",
            "8.10005e+04\n"
          ],
          "name": "stdout"
        }
      ]
    },
    {
      "cell_type": "markdown",
      "metadata": {
        "id": "NtTdjBpg0W62"
      },
      "source": [
        "## 4. Списки\n",
        "\n",
        "Списки могут содержать объекты любых типов, причем в одном списке могут быть объекты разных типов. Списки индексируются так же, как строки."
      ]
    },
    {
      "cell_type": "code",
      "metadata": {
        "id": "LVeqgm_b0W62",
        "outputId": "d678d13a-637e-47a8-c0a3-47d35897d6ce"
      },
      "source": [
        "l = [0, 1, 2, 3, 4, 5, 6, 7, 8, 9]\n",
        "l"
      ],
      "execution_count": null,
      "outputs": [
        {
          "output_type": "execute_result",
          "data": {
            "text/plain": [
              "[0, 1, 2, 3, 4, 5, 6, 7, 8, 9]"
            ]
          },
          "metadata": {
            "tags": []
          },
          "execution_count": 80
        }
      ]
    },
    {
      "cell_type": "code",
      "metadata": {
        "id": "WFQ7I3900W63",
        "outputId": "de83f32b-43a7-42e2-cf5f-b6b7b09e958d"
      },
      "source": [
        "len(l)"
      ],
      "execution_count": null,
      "outputs": [
        {
          "output_type": "execute_result",
          "data": {
            "text/plain": [
              "10"
            ]
          },
          "metadata": {
            "tags": []
          },
          "execution_count": 81
        }
      ]
    },
    {
      "cell_type": "code",
      "metadata": {
        "id": "EtX8cpZ00W63",
        "outputId": "3d99099d-7579-434c-bec2-64ad868367c7"
      },
      "source": [
        "l[0]"
      ],
      "execution_count": null,
      "outputs": [
        {
          "output_type": "execute_result",
          "data": {
            "text/plain": [
              "0"
            ]
          },
          "metadata": {
            "tags": []
          },
          "execution_count": 82
        }
      ]
    },
    {
      "cell_type": "code",
      "metadata": {
        "id": "MQ1nQR0y0W63",
        "outputId": "1df4d308-ecca-435c-8294-0714754e41d1"
      },
      "source": [
        "l[3]"
      ],
      "execution_count": null,
      "outputs": [
        {
          "output_type": "execute_result",
          "data": {
            "text/plain": [
              "3"
            ]
          },
          "metadata": {
            "tags": []
          },
          "execution_count": 83
        }
      ]
    },
    {
      "cell_type": "code",
      "metadata": {
        "id": "1wzgUgUg0W63",
        "outputId": "0de191e6-be2c-49cc-a6e3-dece02d15696"
      },
      "source": [
        "l[10]"
      ],
      "execution_count": null,
      "outputs": [
        {
          "output_type": "error",
          "ename": "IndexError",
          "evalue": "list index out of range",
          "traceback": [
            "\u001b[0;31m---------------------------------------------------------------------------\u001b[0m",
            "\u001b[0;31mIndexError\u001b[0m                                Traceback (most recent call last)",
            "\u001b[0;32m<ipython-input-84-e4a648ff0fa9>\u001b[0m in \u001b[0;36m<module>\u001b[0;34m()\u001b[0m\n\u001b[0;32m----> 1\u001b[0;31m \u001b[0ml\u001b[0m\u001b[0;34m[\u001b[0m\u001b[0;36m10\u001b[0m\u001b[0;34m]\u001b[0m\u001b[0;34m\u001b[0m\u001b[0m\n\u001b[0m",
            "\u001b[0;31mIndexError\u001b[0m: list index out of range"
          ]
        }
      ]
    },
    {
      "cell_type": "code",
      "metadata": {
        "id": "R58LebgF0W64",
        "outputId": "387d186c-e48c-4a25-8e64-12bea9b65c95"
      },
      "source": [
        "l[-1]"
      ],
      "execution_count": null,
      "outputs": [
        {
          "output_type": "execute_result",
          "data": {
            "text/plain": [
              "9"
            ]
          },
          "metadata": {
            "tags": []
          },
          "execution_count": 85
        }
      ]
    },
    {
      "cell_type": "code",
      "metadata": {
        "id": "JvYxcFY80W64",
        "outputId": "5a5d4f95-aee0-4161-f2c9-43e92e1dd38e"
      },
      "source": [
        "l[-2]"
      ],
      "execution_count": null,
      "outputs": [
        {
          "output_type": "execute_result",
          "data": {
            "text/plain": [
              "8"
            ]
          },
          "metadata": {
            "tags": []
          },
          "execution_count": 86
        }
      ]
    },
    {
      "cell_type": "code",
      "metadata": {
        "id": "wyqIB-pI0W64",
        "outputId": "c4dd5508-a855-4a6d-a235-5d09bbeeccd9"
      },
      "source": [
        "l[1:3]"
      ],
      "execution_count": null,
      "outputs": [
        {
          "output_type": "execute_result",
          "data": {
            "text/plain": [
              "[1, 2]"
            ]
          },
          "metadata": {
            "tags": []
          },
          "execution_count": 87
        }
      ]
    },
    {
      "cell_type": "markdown",
      "metadata": {
        "id": "-OZ_8BdC0W64"
      },
      "source": [
        "Обратите внимание, что `l[:3]+l[3:]==l`."
      ]
    },
    {
      "cell_type": "code",
      "metadata": {
        "id": "MTBmAbRg0W65",
        "outputId": "8f04c900-6316-4756-a4db-551308f2303b"
      },
      "source": [
        "l[:3]"
      ],
      "execution_count": null,
      "outputs": [
        {
          "output_type": "execute_result",
          "data": {
            "text/plain": [
              "[0, 1, 2]"
            ]
          },
          "metadata": {
            "tags": []
          },
          "execution_count": 88
        }
      ]
    },
    {
      "cell_type": "code",
      "metadata": {
        "id": "bBaGpgYl0W65",
        "outputId": "84f665b7-efa4-4f36-dd3d-a22f5e55e89c"
      },
      "source": [
        "l[3:]"
      ],
      "execution_count": null,
      "outputs": [
        {
          "output_type": "execute_result",
          "data": {
            "text/plain": [
              "[3, 4, 5, 6, 7, 8, 9]"
            ]
          },
          "metadata": {
            "tags": []
          },
          "execution_count": 89
        }
      ]
    },
    {
      "cell_type": "code",
      "metadata": {
        "id": "IEICbcdc0W65",
        "outputId": "cf30b0d0-7ce7-41b2-f48d-b3201a7a8e5f"
      },
      "source": [
        "l[3:3]"
      ],
      "execution_count": null,
      "outputs": [
        {
          "output_type": "execute_result",
          "data": {
            "text/plain": [
              "[]"
            ]
          },
          "metadata": {
            "tags": []
          },
          "execution_count": 90
        }
      ]
    },
    {
      "cell_type": "code",
      "metadata": {
        "id": "9W22-HRu0W66",
        "outputId": "99de10f6-3810-4bba-8bd9-4daced9365be"
      },
      "source": [
        "l[3:-2]"
      ],
      "execution_count": null,
      "outputs": [
        {
          "output_type": "execute_result",
          "data": {
            "text/plain": [
              "[3, 4, 5, 6, 7]"
            ]
          },
          "metadata": {
            "tags": []
          },
          "execution_count": 91
        }
      ]
    },
    {
      "cell_type": "code",
      "metadata": {
        "id": "Ua2XgyIZ0W66",
        "outputId": "ae04c120-4e7d-405c-f6c6-6df8c4edd3ec"
      },
      "source": [
        "l[:-2]"
      ],
      "execution_count": null,
      "outputs": [
        {
          "output_type": "execute_result",
          "data": {
            "text/plain": [
              "[0, 1, 2, 3, 4, 5, 6, 7]"
            ]
          },
          "metadata": {
            "tags": []
          },
          "execution_count": 92
        }
      ]
    },
    {
      "cell_type": "markdown",
      "metadata": {
        "id": "y3jWIgCy0W66"
      },
      "source": [
        "Списки являются изменяемыми объектами. Это сделано для эффективности. В списке может быть 1000000 элементов. Создавать его копию каждый раз, когда мы изменили один элемент, слишком дорого."
      ]
    },
    {
      "cell_type": "code",
      "metadata": {
        "id": "yCZFdYwh0W66",
        "outputId": "b74e5251-d472-4f8a-981f-908c05b779f4"
      },
      "source": [
        "l[3] = 'три'\n",
        "l"
      ],
      "execution_count": null,
      "outputs": [
        {
          "output_type": "execute_result",
          "data": {
            "text/plain": [
              "[0, 1, 2, 'три', 4, 5, 6, 7, 8, 9]"
            ]
          },
          "metadata": {
            "tags": []
          },
          "execution_count": 93
        }
      ]
    },
    {
      "cell_type": "markdown",
      "metadata": {
        "id": "uVk6Tw9A0W66"
      },
      "source": [
        "Можно заменить какой-нибудь подсписок на новый список (в том числе другой длины)."
      ]
    },
    {
      "cell_type": "code",
      "metadata": {
        "id": "46GLbbfm0W67",
        "outputId": "7a8836a5-703e-4dc3-f743-9953111bb025"
      },
      "source": [
        "l[3:3] = [0]\n",
        "l"
      ],
      "execution_count": null,
      "outputs": [
        {
          "output_type": "execute_result",
          "data": {
            "text/plain": [
              "[0, 1, 2, 0, 'три', 4, 5, 6, 7, 8, 9]"
            ]
          },
          "metadata": {
            "tags": []
          },
          "execution_count": 94
        }
      ]
    },
    {
      "cell_type": "code",
      "metadata": {
        "id": "N_3e1G-70W68",
        "outputId": "97aa1dcf-bf31-485d-91ff-1275950e83fe"
      },
      "source": [
        "l[3:3] = [10, 11, 12]\n",
        "l"
      ],
      "execution_count": null,
      "outputs": [
        {
          "output_type": "execute_result",
          "data": {
            "text/plain": [
              "[0, 1, 2, 10, 11, 12, 0, 'три', 4, 5, 6, 7, 8, 9]"
            ]
          },
          "metadata": {
            "tags": []
          },
          "execution_count": 95
        }
      ]
    },
    {
      "cell_type": "code",
      "metadata": {
        "id": "B_wWyj_Z0W68",
        "outputId": "ad0e3070-dcfa-4d06-a2d6-21767beefc79"
      },
      "source": [
        "l[5:7] = [0, 0, 0, 0]\n",
        "l"
      ],
      "execution_count": null,
      "outputs": [
        {
          "output_type": "execute_result",
          "data": {
            "text/plain": [
              "[0, 1, 2, 10, 11, 0, 0, 0, 0, 'три', 4, 5, 6, 7, 8, 9]"
            ]
          },
          "metadata": {
            "tags": []
          },
          "execution_count": 96
        }
      ]
    },
    {
      "cell_type": "code",
      "metadata": {
        "id": "1mHgAND00W68",
        "outputId": "d9f57a69-54e3-4c11-ff85-c99feffe3359"
      },
      "source": [
        "l[3:] = []\n",
        "l"
      ],
      "execution_count": null,
      "outputs": [
        {
          "output_type": "execute_result",
          "data": {
            "text/plain": [
              "[0, 1, 2]"
            ]
          },
          "metadata": {
            "tags": []
          },
          "execution_count": 97
        }
      ]
    },
    {
      "cell_type": "code",
      "metadata": {
        "id": "kiTQUrPZ0W68",
        "outputId": "68b78657-e9c4-46e2-8904-52c81021a6ec"
      },
      "source": [
        "l[len(l):] = [3, 4]\n",
        "l"
      ],
      "execution_count": null,
      "outputs": [
        {
          "output_type": "execute_result",
          "data": {
            "text/plain": [
              "[0, 1, 2, 3, 4]"
            ]
          },
          "metadata": {
            "tags": []
          },
          "execution_count": 98
        }
      ]
    },
    {
      "cell_type": "markdown",
      "metadata": {
        "id": "8OHt89vn0W69"
      },
      "source": [
        "Некоторые из этих операций могут быть записаны в другой форме."
      ]
    },
    {
      "cell_type": "code",
      "metadata": {
        "id": "83MH4Np70W69",
        "outputId": "4e70219e-dbaf-4f32-92f5-1354e302fa1b"
      },
      "source": [
        "l = [0, 1, 2, 3, 4, 5, 6, 7]\n",
        "del l[3]\n",
        "l"
      ],
      "execution_count": null,
      "outputs": [
        {
          "output_type": "execute_result",
          "data": {
            "text/plain": [
              "[0, 1, 2, 4, 5, 6, 7]"
            ]
          },
          "metadata": {
            "tags": []
          },
          "execution_count": 81
        }
      ]
    },
    {
      "cell_type": "code",
      "metadata": {
        "id": "DYDNZH2P0W69",
        "outputId": "d83e0f23-6a0b-42f4-9583-9ae344f9880c"
      },
      "source": [
        "del l[3:5]\n",
        "l"
      ],
      "execution_count": null,
      "outputs": [
        {
          "output_type": "execute_result",
          "data": {
            "text/plain": [
              "[0, 1, 2, 6, 7]"
            ]
          },
          "metadata": {
            "tags": []
          },
          "execution_count": 82
        }
      ]
    },
    {
      "cell_type": "code",
      "metadata": {
        "id": "qKdpzXpO0W69",
        "outputId": "a63204de-55b9-4e93-bdf1-d1e07795854d"
      },
      "source": [
        "l.insert(3, 0)\n",
        "l"
      ],
      "execution_count": null,
      "outputs": [
        {
          "output_type": "execute_result",
          "data": {
            "text/plain": [
              "[0, 1, 2, 0, 6, 7]"
            ]
          },
          "metadata": {
            "tags": []
          },
          "execution_count": 83
        }
      ]
    },
    {
      "cell_type": "code",
      "metadata": {
        "id": "aDDfv8Lq0W6-",
        "outputId": "10f2a608-d737-4c37-8d3e-8625ffb58611"
      },
      "source": [
        "l.append(8)\n",
        "l"
      ],
      "execution_count": null,
      "outputs": [
        {
          "output_type": "execute_result",
          "data": {
            "text/plain": [
              "[0, 1, 2, 0, 6, 7, 8]"
            ]
          },
          "metadata": {
            "tags": []
          },
          "execution_count": 84
        }
      ]
    },
    {
      "cell_type": "code",
      "metadata": {
        "id": "28wr4FDh0W6-",
        "outputId": "a2bf58a4-75c4-4183-839b-3a417c3cb5a3"
      },
      "source": [
        "l.extend([9, 10, 11])\n",
        "l"
      ],
      "execution_count": null,
      "outputs": [
        {
          "output_type": "execute_result",
          "data": {
            "text/plain": [
              "[0, 1, 2, 0, 6, 7, 8, 9, 10, 11]"
            ]
          },
          "metadata": {
            "tags": []
          },
          "execution_count": 85
        }
      ]
    },
    {
      "cell_type": "code",
      "metadata": {
        "id": "ubCk2f_H0W6-",
        "outputId": "44945e96-c9b4-4fea-e6fa-683ebcf30c0e"
      },
      "source": [
        "l.append([9, 10, 11])\n",
        "l"
      ],
      "execution_count": null,
      "outputs": [
        {
          "output_type": "execute_result",
          "data": {
            "text/plain": [
              "[0, 1, 2, 0, 6, 7, 8, 9, 10, 11, [9, 10, 11]]"
            ]
          },
          "metadata": {
            "tags": []
          },
          "execution_count": 86
        }
      ]
    },
    {
      "cell_type": "markdown",
      "metadata": {
        "id": "njVOWX5t0W6-"
      },
      "source": [
        "Элементы списка могут быть разных типов."
      ]
    },
    {
      "cell_type": "code",
      "metadata": {
        "id": "WlYzefdh0W6_",
        "outputId": "715eebaf-6f7d-4c80-dcb7-dc286cf230cf"
      },
      "source": [
        "l = [0, [1, 2, 3], 'abc']\n",
        "l[1][1] = 'x'\n",
        "l"
      ],
      "execution_count": null,
      "outputs": [
        {
          "output_type": "execute_result",
          "data": {
            "text/plain": [
              "[0, [1, 'x', 3], 'abc']"
            ]
          },
          "metadata": {
            "tags": []
          },
          "execution_count": 87
        }
      ]
    },
    {
      "cell_type": "markdown",
      "metadata": {
        "id": "z_T0DiSi0W6_"
      },
      "source": [
        "Когда мы пишем `m=l`, мы присваиваем переменной `m` ссылку на тот же объект, на который ссылается `l`.  Поэтому, изменив этот объект (список) через `l`, мы увидим эти изменения и через `m` — ведь список всего один."
      ]
    },
    {
      "cell_type": "code",
      "metadata": {
        "id": "3pkwPPDx0W6_",
        "outputId": "886f9d2f-5d25-46a4-e781-a8cd8f779a54"
      },
      "source": [
        "l = [0, 1, 2, 3, 4, 5]\n",
        "m = l\n",
        "l[3] = 'три'\n",
        "m"
      ],
      "execution_count": null,
      "outputs": [
        {
          "output_type": "execute_result",
          "data": {
            "text/plain": [
              "[0, 1, 2, 'три', 4, 5]"
            ]
          },
          "metadata": {
            "tags": []
          },
          "execution_count": 89
        }
      ]
    },
    {
      "cell_type": "markdown",
      "metadata": {
        "id": "e8fO5x2H0W6_"
      },
      "source": [
        "Операция `is` проверяет, являются ли `m` и `l` **одним и тем же объектом**."
      ]
    },
    {
      "cell_type": "code",
      "metadata": {
        "id": "udCAnnqc0W6_",
        "outputId": "02ee19b8-448e-4a62-942c-4d73dd1783d9"
      },
      "source": [
        "m is l"
      ],
      "execution_count": null,
      "outputs": [
        {
          "output_type": "execute_result",
          "data": {
            "text/plain": [
              "True"
            ]
          },
          "metadata": {
            "tags": []
          },
          "execution_count": 90
        }
      ]
    },
    {
      "cell_type": "markdown",
      "metadata": {
        "id": "2oj3QjlA0W7A"
      },
      "source": [
        "Если мы хотим видоизменять `m` и `l` независимо, нужно присвоить переменной `m` не список `l`, а его копию. Тогда это будут два различных списка, просто в начальный момент они состоят из одних и тех же элементов. Для этого в питоне есть идиома: `l[:]` - это подсписок списка `l` от начала до конца, а подсписок всегда копируется."
      ]
    },
    {
      "cell_type": "code",
      "metadata": {
        "id": "RlhgVN750W7A"
      },
      "source": [
        "m = l[:]"
      ],
      "execution_count": null,
      "outputs": []
    },
    {
      "cell_type": "markdown",
      "metadata": {
        "id": "9ogYEsLI0W7A"
      },
      "source": [
        "Теперь `m` и `l` - два независимых объекта, имеющих равные значения."
      ]
    },
    {
      "cell_type": "code",
      "metadata": {
        "id": "U_fUCUjj0W7A",
        "outputId": "ae015e3b-e104-4f35-89a9-5de0bb2ee7f3"
      },
      "source": [
        "m is l"
      ],
      "execution_count": null,
      "outputs": [
        {
          "output_type": "execute_result",
          "data": {
            "text/plain": [
              "False"
            ]
          },
          "metadata": {
            "tags": []
          },
          "execution_count": 92
        }
      ]
    },
    {
      "cell_type": "code",
      "metadata": {
        "id": "gW3z_BTp0W7A",
        "outputId": "294d9ca5-2951-429a-eb59-123050ce32a5"
      },
      "source": [
        "m == l"
      ],
      "execution_count": null,
      "outputs": [
        {
          "output_type": "execute_result",
          "data": {
            "text/plain": [
              "True"
            ]
          },
          "metadata": {
            "tags": []
          },
          "execution_count": 93
        }
      ]
    },
    {
      "cell_type": "markdown",
      "metadata": {
        "id": "AhBNZ7LO0W7B"
      },
      "source": [
        "Их можно менять независимо."
      ]
    },
    {
      "cell_type": "code",
      "metadata": {
        "id": "bEx4T-9u0W7B",
        "outputId": "f33974ae-7688-4450-e980-d292bcad0bbd"
      },
      "source": [
        "l[3] = 0\n",
        "l"
      ],
      "execution_count": null,
      "outputs": [
        {
          "output_type": "execute_result",
          "data": {
            "text/plain": [
              "[0, 1, 2, 0, 4, 5]"
            ]
          },
          "metadata": {
            "tags": []
          },
          "execution_count": 94
        }
      ]
    },
    {
      "cell_type": "code",
      "metadata": {
        "id": "Q0qtqTaN0W7B",
        "outputId": "7c0c33f6-f2e9-46fc-ddaa-cffb7f05a20d"
      },
      "source": [
        "m"
      ],
      "execution_count": null,
      "outputs": [
        {
          "output_type": "execute_result",
          "data": {
            "text/plain": [
              "[0, 1, 2, 'три', 4, 5]"
            ]
          },
          "metadata": {
            "tags": []
          },
          "execution_count": 95
        }
      ]
    },
    {
      "cell_type": "markdown",
      "metadata": {
        "id": "dMu_vkRL0W7B"
      },
      "source": [
        "Как и для строк, сложение списков означает конкатенацию, а умножение на целое число - повторение списка несколько раз. Операция `in` проверяет, содержится ли элемент в списке."
      ]
    },
    {
      "cell_type": "code",
      "metadata": {
        "id": "KslLa8Kv0W7B",
        "outputId": "e18a7562-511b-4d4b-df38-8e555ec2ed07"
      },
      "source": [
        "[0, 1, 2] + [3, 4, 5]"
      ],
      "execution_count": null,
      "outputs": [
        {
          "output_type": "execute_result",
          "data": {
            "text/plain": [
              "[0, 1, 2, 3, 4, 5]"
            ]
          },
          "metadata": {
            "tags": []
          },
          "execution_count": 96
        }
      ]
    },
    {
      "cell_type": "code",
      "metadata": {
        "id": "WDdORK4w0W7C",
        "outputId": "5c0491c2-dda3-4d7e-bd3a-1f26cc79e6dc"
      },
      "source": [
        "2 * [0, 1, 2]"
      ],
      "execution_count": null,
      "outputs": [
        {
          "output_type": "execute_result",
          "data": {
            "text/plain": [
              "[0, 1, 2, 0, 1, 2]"
            ]
          },
          "metadata": {
            "tags": []
          },
          "execution_count": 97
        }
      ]
    },
    {
      "cell_type": "code",
      "metadata": {
        "id": "jnVn-hln0W7C",
        "outputId": "c84667fe-a95e-4ea4-8faa-63e1d1df4466"
      },
      "source": [
        "l = [0, 1, 2]\n",
        "l += [3, 4, 5]\n",
        "l"
      ],
      "execution_count": null,
      "outputs": [
        {
          "output_type": "execute_result",
          "data": {
            "text/plain": [
              "[0, 1, 2, 3, 4, 5]"
            ]
          },
          "metadata": {
            "tags": []
          },
          "execution_count": 98
        }
      ]
    },
    {
      "cell_type": "code",
      "metadata": {
        "id": "3o49J1jr0W7C",
        "outputId": "0eb2b62f-9a27-4194-b507-525e984a8bf5"
      },
      "source": [
        "2 in l"
      ],
      "execution_count": null,
      "outputs": [
        {
          "output_type": "execute_result",
          "data": {
            "text/plain": [
              "True"
            ]
          },
          "metadata": {
            "tags": []
          },
          "execution_count": 99
        }
      ]
    },
    {
      "cell_type": "markdown",
      "metadata": {
        "id": "inYM5tbA0W7D"
      },
      "source": [
        "Простейший вид цикла в питоне — это цикл по элементам списка."
      ]
    },
    {
      "cell_type": "code",
      "metadata": {
        "id": "08ssPk5b0W7D",
        "outputId": "a68a9bfd-0929-4003-fc3e-507703cd0e78"
      },
      "source": [
        "for x in l:\n",
        "    print(x)"
      ],
      "execution_count": null,
      "outputs": [
        {
          "output_type": "stream",
          "text": [
            "0\n",
            "1\n",
            "2\n",
            "3\n",
            "4\n",
            "5\n"
          ],
          "name": "stdout"
        }
      ]
    },
    {
      "cell_type": "markdown",
      "metadata": {
        "id": "cv37wjhj0W7D"
      },
      "source": [
        "Можно использовать цикл `while`. В этом примере он выполняется, пока список `l` не пуст. Этот цикл гораздо менее эффективен, чем предыдущий - в нём на каждом шаге меняется список `l`. Он тут приведён не для того, чтобы ему подражали, а просто чтобы показать синтаксис цикла `while`."
      ]
    },
    {
      "cell_type": "code",
      "metadata": {
        "id": "AlASejaa0W7D",
        "outputId": "b443be6b-f079-4030-92c9-237650a09dfb"
      },
      "source": [
        "while l:\n",
        "    print(l[0])\n",
        "    l = l[1:]"
      ],
      "execution_count": null,
      "outputs": [
        {
          "output_type": "stream",
          "text": [
            "0\n",
            "1\n",
            "2\n",
            "3\n",
            "4\n",
            "5\n"
          ],
          "name": "stdout"
        }
      ]
    },
    {
      "cell_type": "code",
      "metadata": {
        "id": "cKUKmcoQ0W7E",
        "outputId": "c614932b-ccff-4e05-bf10-c5ff6ccac330"
      },
      "source": [
        "l"
      ],
      "execution_count": null,
      "outputs": [
        {
          "output_type": "execute_result",
          "data": {
            "text/plain": [
              "[]"
            ]
          },
          "metadata": {
            "tags": []
          },
          "execution_count": 102
        }
      ]
    },
    {
      "cell_type": "markdown",
      "metadata": {
        "id": "AE57grzD0W7E"
      },
      "source": [
        "Очень часто используются циклы по диапазонам целых чисел."
      ]
    },
    {
      "cell_type": "code",
      "metadata": {
        "id": "hChofoZU0W7F",
        "outputId": "5e830f76-04f3-47ff-afa9-2d7620880513"
      },
      "source": [
        "for i in range(4):\n",
        "    print(i)"
      ],
      "execution_count": null,
      "outputs": [
        {
          "output_type": "stream",
          "text": [
            "0\n",
            "1\n",
            "2\n",
            "3\n"
          ],
          "name": "stdout"
        }
      ]
    },
    {
      "cell_type": "markdown",
      "metadata": {
        "id": "awkpluty0W7F"
      },
      "source": [
        "Функция `range(n)` возвращает диапазон целых чисел от 0 до $n-1$ (всего $n$ штук) в виде специального объекта `range`, который можно использовать в `for` цикле. Можно превратить этот объект в список функцией `list`. Но этого делать не нужно, если только такой список не нужен для проведения каких-нибудь списковых операций. Число `n` может быть равно 1000000. Зачем занимать память под длинный список, если он не нужен? Для написания цикла достаточно короткого объекта `range`, который хранит только пределы."
      ]
    },
    {
      "cell_type": "code",
      "metadata": {
        "id": "pfIakgdp0W7F",
        "outputId": "36a3319f-a395-49ef-90ea-4b4dbd09b03e"
      },
      "source": [
        "r = range(4)\n",
        "r"
      ],
      "execution_count": null,
      "outputs": [
        {
          "output_type": "execute_result",
          "data": {
            "text/plain": [
              "range(0, 4)"
            ]
          },
          "metadata": {
            "tags": []
          },
          "execution_count": 104
        }
      ]
    },
    {
      "cell_type": "code",
      "metadata": {
        "id": "-AVATr900W7F",
        "outputId": "add13974-b0b4-4f24-b53a-332f123ea5ab"
      },
      "source": [
        "list(r)"
      ],
      "execution_count": null,
      "outputs": [
        {
          "output_type": "execute_result",
          "data": {
            "text/plain": [
              "[0, 1, 2, 3]"
            ]
          },
          "metadata": {
            "tags": []
          },
          "execution_count": 105
        }
      ]
    },
    {
      "cell_type": "markdown",
      "metadata": {
        "id": "DXQs6Rbb0W7G"
      },
      "source": [
        "Функции `range` можно передать первый параметр - нижний предел."
      ]
    },
    {
      "cell_type": "code",
      "metadata": {
        "id": "Uqjn0ALC0W7G",
        "outputId": "b33cfbaf-691f-4b19-ad36-92ef69bcc0eb"
      },
      "source": [
        "for i in range(2, 4):\n",
        "    print(i)"
      ],
      "execution_count": null,
      "outputs": [
        {
          "output_type": "stream",
          "text": [
            "2\n",
            "3\n"
          ],
          "name": "stdout"
        }
      ]
    },
    {
      "cell_type": "code",
      "metadata": {
        "id": "JWh6F6tC0W7G",
        "outputId": "612d47c3-5127-4de4-e7a3-1fc934724a1a"
      },
      "source": [
        "r = range(2, 4)\n",
        "r"
      ],
      "execution_count": null,
      "outputs": [
        {
          "output_type": "execute_result",
          "data": {
            "text/plain": [
              "range(2, 4)"
            ]
          },
          "metadata": {
            "tags": []
          },
          "execution_count": 123
        }
      ]
    },
    {
      "cell_type": "code",
      "metadata": {
        "id": "-IKL2hr10W7G",
        "outputId": "fa799c7b-d970-49b9-8e22-9e4431e240f0"
      },
      "source": [
        "list(r)"
      ],
      "execution_count": null,
      "outputs": [
        {
          "output_type": "execute_result",
          "data": {
            "text/plain": [
              "[2, 3]"
            ]
          },
          "metadata": {
            "tags": []
          },
          "execution_count": 124
        }
      ]
    },
    {
      "cell_type": "markdown",
      "metadata": {
        "id": "QGPHtmgO0W7G"
      },
      "source": [
        "Можно также передать шаг третьим аргументом"
      ]
    },
    {
      "cell_type": "code",
      "metadata": {
        "id": "wjiXOTUX0W7H",
        "outputId": "9bf626c8-4812-44c3-baa3-21e3dac0369e"
      },
      "source": [
        "for i in range(1, 10, 2):\n",
        "    print(i)"
      ],
      "execution_count": null,
      "outputs": [
        {
          "output_type": "stream",
          "text": [
            "1\n",
            "3\n",
            "5\n",
            "7\n",
            "9\n"
          ],
          "name": "stdout"
        }
      ]
    },
    {
      "cell_type": "code",
      "metadata": {
        "id": "q639anzc0W7H",
        "outputId": "c25d324d-b8c6-4f7c-ba1e-88c0b853db53"
      },
      "source": [
        "r = range(1, 10, 2)\n",
        "r"
      ],
      "execution_count": null,
      "outputs": [
        {
          "output_type": "execute_result",
          "data": {
            "text/plain": [
              "range(1, 10, 2)"
            ]
          },
          "metadata": {
            "tags": []
          },
          "execution_count": 107
        }
      ]
    },
    {
      "cell_type": "code",
      "metadata": {
        "id": "Eueodxf60W7H",
        "outputId": "2f122a3c-09ee-4408-ac45-e4aa886325bb"
      },
      "source": [
        "list(r)"
      ],
      "execution_count": null,
      "outputs": [
        {
          "output_type": "execute_result",
          "data": {
            "text/plain": [
              "[1, 3, 5, 7, 9]"
            ]
          },
          "metadata": {
            "tags": []
          },
          "execution_count": 108
        }
      ]
    },
    {
      "cell_type": "markdown",
      "metadata": {
        "id": "MS5Wx6nR0W7H"
      },
      "source": [
        "Функция `list` превращает строку в список символов."
      ]
    },
    {
      "cell_type": "code",
      "metadata": {
        "id": "4VN4Cvrt0W7I",
        "outputId": "ae831076-6d0f-421e-df49-d684b9e31a75"
      },
      "source": [
        "l = list('абвгд')\n",
        "l"
      ],
      "execution_count": null,
      "outputs": [
        {
          "output_type": "execute_result",
          "data": {
            "text/plain": [
              "['а', 'б', 'в', 'г', 'д']"
            ]
          },
          "metadata": {
            "tags": []
          },
          "execution_count": 109
        }
      ]
    },
    {
      "cell_type": "markdown",
      "metadata": {
        "id": "qjtmLh3A0W7I"
      },
      "source": [
        "Как написать цикл, если в его теле нужно использовать и номера элементов списка, и сами эти элементы? Первая идея, которая приходит в голову по аналогии с C — это использовать `range`."
      ]
    },
    {
      "cell_type": "code",
      "metadata": {
        "id": "FCwK8O6j0W7I",
        "outputId": "87221fac-1ec3-4a12-ad68-e7fe2ab5e5f7"
      },
      "source": [
        "for i in range(len(l)):\n",
        "    print(i, '  ', l[i])"
      ],
      "execution_count": null,
      "outputs": [
        {
          "output_type": "stream",
          "text": [
            "0    а\n",
            "1    б\n",
            "2    в\n",
            "3    г\n",
            "4    д\n"
          ],
          "name": "stdout"
        }
      ]
    },
    {
      "cell_type": "markdown",
      "metadata": {
        "id": "AR1Uhu9k0W7J"
      },
      "source": [
        "Можно поступить наоборот — устроить цикл по элементам списка, а индексы вычислять."
      ]
    },
    {
      "cell_type": "code",
      "metadata": {
        "id": "4j2MC2QO0W7J",
        "outputId": "0d85058a-081e-4445-dd12-97b4359253ae"
      },
      "source": [
        "i = 0\n",
        "for x in l:\n",
        "    print(i, '  ', x)\n",
        "    i += 1"
      ],
      "execution_count": null,
      "outputs": [
        {
          "output_type": "stream",
          "text": [
            "0    а\n",
            "1    б\n",
            "2    в\n",
            "3    г\n",
            "4    д\n"
          ],
          "name": "stdout"
        }
      ]
    },
    {
      "cell_type": "markdown",
      "metadata": {
        "id": "XzLCVFWk0W7J"
      },
      "source": [
        "Оба этих способа не есть идиоматический питон. Более изящно использовать функцию `enumerate`, которая на каждом шаге возвращает пару из индекса `i` и `i`-го элемента списка."
      ]
    },
    {
      "cell_type": "code",
      "metadata": {
        "id": "XeEhs5gJ0W7J",
        "outputId": "ed54644e-fdf9-4477-b2e1-a61d4daf221b"
      },
      "source": [
        "for i, x in enumerate(l):\n",
        "    print(i, '  ', x)"
      ],
      "execution_count": null,
      "outputs": [
        {
          "output_type": "stream",
          "text": [
            "0    а\n",
            "1    б\n",
            "2    в\n",
            "3    г\n",
            "4    д\n"
          ],
          "name": "stdout"
        }
      ]
    },
    {
      "cell_type": "markdown",
      "metadata": {
        "id": "XANJxJgx0W7J"
      },
      "source": [
        "Про такие пары мы поговорим в следующем параграфе.\n",
        "\n",
        "Довольно часто удобно использовать цикл `while True:`, то есть пока рак на горе не свистнет, а выход (или несколько выходов) из него устраивать в нужном месте (или местах) при помощи `break`."
      ]
    },
    {
      "cell_type": "code",
      "metadata": {
        "id": "xovUDQDm0W7K",
        "outputId": "9cde8bf1-0957-4ef5-9523-d41f51ae7c67"
      },
      "source": [
        "while True:\n",
        "    print(l[-1])\n",
        "    l = l[:-1]\n",
        "    if l == []:\n",
        "        break"
      ],
      "execution_count": null,
      "outputs": [
        {
          "output_type": "stream",
          "text": [
            "д\n",
            "г\n",
            "в\n",
            "б\n",
            "а\n"
          ],
          "name": "stdout"
        }
      ]
    },
    {
      "cell_type": "markdown",
      "metadata": {
        "id": "0seN-hFC0W7K"
      },
      "source": [
        "Этот конкретный цикл — отнюдь не пример для подражания, он просто показывает синтаксис.\n",
        "\n",
        "Можно строить список поэлементно."
      ]
    },
    {
      "cell_type": "code",
      "metadata": {
        "id": "wnWSV1j20W7K",
        "outputId": "9b9eba83-eca6-460d-d4fa-bfba3516a376"
      },
      "source": [
        "l = []\n",
        "for i in range(10):\n",
        "    l.append(i ** 2)\n",
        "l"
      ],
      "execution_count": null,
      "outputs": [
        {
          "output_type": "execute_result",
          "data": {
            "text/plain": [
              "[0, 1, 4, 9, 16, 25, 36, 49, 64, 81]"
            ]
          },
          "metadata": {
            "tags": []
          },
          "execution_count": 133
        }
      ]
    },
    {
      "cell_type": "markdown",
      "metadata": {
        "collapsed": true,
        "id": "jRPM1nvA0W7K"
      },
      "source": [
        "Но более компактно и элегантно такой список можно создать при помощи генератора списка (list comprehension). К тому же это эффективнее — размер списка известен заранее, и не нужно много раз увеличивать его. Опытные питон-программисты используют генераторы списков везде, где это возможно (и разумно)."
      ]
    },
    {
      "cell_type": "code",
      "metadata": {
        "id": "Agz8KIab0W7K",
        "outputId": "937f45ff-6f66-4c65-ebdb-ac30a19abd3f"
      },
      "source": [
        "[i ** 2 for i in range(10)]"
      ],
      "execution_count": null,
      "outputs": [
        {
          "output_type": "execute_result",
          "data": {
            "text/plain": [
              "[0, 1, 4, 9, 16, 25, 36, 49, 64, 81]"
            ]
          },
          "metadata": {
            "tags": []
          },
          "execution_count": 134
        }
      ]
    },
    {
      "cell_type": "code",
      "metadata": {
        "id": "bEOReYVY0W7L",
        "outputId": "af612858-c7d2-4247-e101-3cb104e98ebd"
      },
      "source": [
        "[[i, j] for i in range(3) for j in range(2)]"
      ],
      "execution_count": null,
      "outputs": [
        {
          "output_type": "execute_result",
          "data": {
            "text/plain": [
              "[[0, 0], [0, 1], [1, 0], [1, 1], [2, 0], [2, 1]]"
            ]
          },
          "metadata": {
            "tags": []
          },
          "execution_count": 135
        }
      ]
    },
    {
      "cell_type": "markdown",
      "metadata": {
        "id": "POos3Owd0W7L"
      },
      "source": [
        "В генераторе списков могут присутствовать некоторые дополнительные элементы, хотя они используются реже. Например, в список-результат можно включить не все элементы."
      ]
    },
    {
      "cell_type": "code",
      "metadata": {
        "id": "PS87BXU00W7L",
        "outputId": "457df930-6af7-4219-c45a-a357db47f7a7"
      },
      "source": [
        "[i ** 2 for i in range(10) if i != 5]"
      ],
      "execution_count": null,
      "outputs": [
        {
          "output_type": "execute_result",
          "data": {
            "text/plain": [
              "[0, 1, 4, 9, 16, 36, 49, 64, 81]"
            ]
          },
          "metadata": {
            "tags": []
          },
          "execution_count": 110
        }
      ]
    },
    {
      "cell_type": "markdown",
      "metadata": {
        "id": "QUEDxFkE0W7M"
      },
      "source": [
        "Создадим список случайных целых чисел."
      ]
    },
    {
      "cell_type": "code",
      "metadata": {
        "id": "8j7WhzXL0W7M"
      },
      "source": [
        "from random import randint"
      ],
      "execution_count": null,
      "outputs": []
    },
    {
      "cell_type": "code",
      "metadata": {
        "id": "NnMsCZDd0W7M",
        "outputId": "553c2a67-63f5-4181-e355-e42fa4d6d003"
      },
      "source": [
        "l = [randint(0, 9) for i in range(10)]\n",
        "l"
      ],
      "execution_count": null,
      "outputs": [
        {
          "output_type": "execute_result",
          "data": {
            "text/plain": [
              "[5, 6, 9, 4, 8, 2, 4, 1, 0, 9]"
            ]
          },
          "metadata": {
            "tags": []
          },
          "execution_count": 115
        }
      ]
    },
    {
      "cell_type": "markdown",
      "metadata": {
        "id": "CbGloCEe0W7M"
      },
      "source": [
        "Функция `sorted` возвращает отсортированную копию списка. Метод `sort` сортирует список на месте. Им можно передать дополнительный параметр — функцию, указывающую, как сравнивать элементы."
      ]
    },
    {
      "cell_type": "code",
      "metadata": {
        "id": "csLItc_G0W7M",
        "outputId": "3a9510c8-e946-4c07-f77a-2e9365a966c1"
      },
      "source": [
        "sorted(l)"
      ],
      "execution_count": null,
      "outputs": [
        {
          "output_type": "execute_result",
          "data": {
            "text/plain": [
              "[0, 1, 2, 4, 4, 5, 6, 8, 9, 9]"
            ]
          },
          "metadata": {
            "tags": []
          },
          "execution_count": 116
        }
      ]
    },
    {
      "cell_type": "code",
      "metadata": {
        "id": "kb7nzJ-L0W7N",
        "outputId": "27b7a843-f4a1-4da4-d719-d3d43a1ee310"
      },
      "source": [
        "l"
      ],
      "execution_count": null,
      "outputs": [
        {
          "output_type": "execute_result",
          "data": {
            "text/plain": [
              "[5, 6, 9, 4, 8, 2, 4, 1, 0, 9]"
            ]
          },
          "metadata": {
            "tags": []
          },
          "execution_count": 117
        }
      ]
    },
    {
      "cell_type": "code",
      "metadata": {
        "id": "lo7L0DVE0W7N",
        "outputId": "347a656e-44d8-4425-94c1-7e621be7f2e9"
      },
      "source": [
        "l.sort()\n",
        "l"
      ],
      "execution_count": null,
      "outputs": [
        {
          "output_type": "execute_result",
          "data": {
            "text/plain": [
              "[0, 1, 2, 4, 4, 5, 6, 8, 9, 9]"
            ]
          },
          "metadata": {
            "tags": []
          },
          "execution_count": 118
        }
      ]
    },
    {
      "cell_type": "markdown",
      "metadata": {
        "id": "N30qMzYA0W7N"
      },
      "source": [
        "Аналогично, функция `reversed` возвращает обращённый список. Точнее говоря, некий объект, который можно использовать в `for` цикле или превратить в список функцией `list`. Метод `reverse` обращает список на месте."
      ]
    },
    {
      "cell_type": "code",
      "metadata": {
        "id": "rcZo3x020W7N",
        "outputId": "347070c8-831a-4cec-bdad-f5932ed450f2"
      },
      "source": [
        "list(reversed(l))"
      ],
      "execution_count": null,
      "outputs": [
        {
          "output_type": "execute_result",
          "data": {
            "text/plain": [
              "[9, 9, 8, 6, 5, 4, 4, 2, 1, 0]"
            ]
          },
          "metadata": {
            "tags": []
          },
          "execution_count": 119
        }
      ]
    },
    {
      "cell_type": "code",
      "metadata": {
        "id": "CmD-Og0m0W7O",
        "outputId": "27600bb3-9588-47f9-aae3-a8c06e0caf82"
      },
      "source": [
        "l"
      ],
      "execution_count": null,
      "outputs": [
        {
          "output_type": "execute_result",
          "data": {
            "text/plain": [
              "[0, 1, 2, 4, 4, 5, 6, 8, 9, 9]"
            ]
          },
          "metadata": {
            "tags": []
          },
          "execution_count": 120
        }
      ]
    },
    {
      "cell_type": "code",
      "metadata": {
        "id": "nzHG0qin0W7O",
        "outputId": "38405122-b9ff-4a30-c3df-613a8af71b50"
      },
      "source": [
        "l.reverse()\n",
        "l"
      ],
      "execution_count": null,
      "outputs": [
        {
          "output_type": "execute_result",
          "data": {
            "text/plain": [
              "[9, 9, 8, 6, 5, 4, 4, 2, 1, 0]"
            ]
          },
          "metadata": {
            "tags": []
          },
          "execution_count": 121
        }
      ]
    },
    {
      "cell_type": "markdown",
      "metadata": {
        "id": "Vp_mO6gB0W7O"
      },
      "source": [
        "Метод `split` расщепляет строку в список подстрок. По умолчанию расщепление производится по пустым промежуткам, то есть последовательностям пробелов и символов `tab` и `newline`. Но можно передать ему дополнительный аргумент — подстроку-разделитель."
      ]
    },
    {
      "cell_type": "code",
      "metadata": {
        "id": "3JFQV3V80W7O",
        "outputId": "1fb5be53-f5af-43e9-b224-5be5000d1e73"
      },
      "source": [
        "s = 'abc \\t def \\n ghi'\n",
        "l = s.split()\n",
        "l"
      ],
      "execution_count": null,
      "outputs": [
        {
          "output_type": "execute_result",
          "data": {
            "text/plain": [
              "['abc', 'def', 'ghi']"
            ]
          },
          "metadata": {
            "tags": []
          },
          "execution_count": 145
        }
      ]
    },
    {
      "cell_type": "markdown",
      "metadata": {
        "id": "eTohI4_70W7O"
      },
      "source": [
        "Чтобы напечатать элементы списка через запятую или какой-нибудь другой символ (или строку), очень полезен метод `join`. Он создаёт строку из всех элементов списка, разделяя их строкой-разделителем. Запрограммировать это в виде цикла было бы существенно длиннее, и такую программу было бы сложнее читать."
      ]
    },
    {
      "cell_type": "code",
      "metadata": {
        "id": "ru7P4Ea80W7Q",
        "outputId": "98a38060-1645-4a93-b115-6690d032ff50"
      },
      "source": [
        "s = ', '.join(l)\n",
        "s"
      ],
      "execution_count": null,
      "outputs": [
        {
          "output_type": "execute_result",
          "data": {
            "text/plain": [
              "'abc, def, ghi'"
            ]
          },
          "metadata": {
            "tags": []
          },
          "execution_count": 146
        }
      ]
    },
    {
      "cell_type": "code",
      "metadata": {
        "id": "4thdnawX0W7Q",
        "outputId": "ec6d0241-23ba-4f36-8b2d-ee5c0acc968d"
      },
      "source": [
        "s.split(', ')"
      ],
      "execution_count": null,
      "outputs": [
        {
          "output_type": "execute_result",
          "data": {
            "text/plain": [
              "['abc', 'def', 'ghi']"
            ]
          },
          "metadata": {
            "tags": []
          },
          "execution_count": 147
        }
      ]
    },
    {
      "cell_type": "markdown",
      "metadata": {
        "id": "UPkeFnL84LVV"
      },
      "source": [
        "---\n",
        "\n",
        "При подготовке использованы материалы https://inp.nsk.su/~grozin/python/"
      ]
    }
  ]
}